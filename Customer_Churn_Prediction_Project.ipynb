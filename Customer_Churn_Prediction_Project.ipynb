{
  "nbformat": 4,
  "nbformat_minor": 0,
  "metadata": {
    "colab": {
      "provenance": []
    },
    "kernelspec": {
      "name": "python3",
      "display_name": "Python 3"
    },
    "language_info": {
      "name": "python"
    }
  },
  "cells": [
    {
      "cell_type": "code",
      "execution_count": 1,
      "metadata": {
        "id": "fMOfmORZ0qqi"
      },
      "outputs": [],
      "source": [
        "import pandas as pd\n",
        "from matplotlib import pyplot as plt\n",
        "import numpy as np"
      ]
    },
    {
      "cell_type": "markdown",
      "source": [
        "Loading The Data"
      ],
      "metadata": {
        "id": "WAacYtrs04FF"
      }
    },
    {
      "cell_type": "code",
      "source": [
        "df = pd.read_csv(\"customer_churn.csv\")\n",
        "df.sample(5)"
      ],
      "metadata": {
        "colab": {
          "base_uri": "https://localhost:8080/",
          "height": 386
        },
        "id": "fbR0KjFw06va",
        "outputId": "8e955625-ba1f-43c1-dc37-5ab0f75a3c6b"
      },
      "execution_count": 2,
      "outputs": [
        {
          "output_type": "execute_result",
          "data": {
            "text/plain": [
              "      customerID  gender  SeniorCitizen Partner Dependents  tenure  \\\n",
              "557   1154-HYWWO    Male              0      No         No      38   \n",
              "5194  1902-XBTFB    Male              0      No        Yes      22   \n",
              "2297  3870-MQAMG  Female              0     Yes         No      54   \n",
              "780   5676-CFLYY    Male              0     Yes        Yes      71   \n",
              "6941  2405-LBMUW  Female              0     Yes        Yes      61   \n",
              "\n",
              "     PhoneService     MultipleLines InternetService OnlineSecurity  ...  \\\n",
              "557           Yes                No             DSL            Yes  ...   \n",
              "5194          Yes                No     Fiber optic             No  ...   \n",
              "2297          Yes               Yes     Fiber optic             No  ...   \n",
              "780           Yes                No             DSL             No  ...   \n",
              "6941           No  No phone service             DSL            Yes  ...   \n",
              "\n",
              "     DeviceProtection TechSupport StreamingTV StreamingMovies        Contract  \\\n",
              "557                No         Yes         Yes              No        One year   \n",
              "5194              Yes          No         Yes              No  Month-to-month   \n",
              "2297              Yes         Yes         Yes             Yes        One year   \n",
              "780                No         Yes         Yes             Yes        Two year   \n",
              "6941               No         Yes          No             Yes        One year   \n",
              "\n",
              "     PaperlessBilling              PaymentMethod MonthlyCharges  TotalCharges  \\\n",
              "557                No               Mailed check          70.60        2708.2   \n",
              "5194              Yes           Electronic check          89.40        2001.5   \n",
              "2297               No           Electronic check         110.35       5893.15   \n",
              "780               Yes    Credit card (automatic)          73.35        5154.5   \n",
              "6941              Yes  Bank transfer (automatic)          50.70       3088.75   \n",
              "\n",
              "     Churn  \n",
              "557     No  \n",
              "5194   Yes  \n",
              "2297   Yes  \n",
              "780     No  \n",
              "6941    No  \n",
              "\n",
              "[5 rows x 21 columns]"
            ],
            "text/html": [
              "\n",
              "  <div id=\"df-3c528ed1-bbcb-47ec-b2ef-df23ee373e28\">\n",
              "    <div class=\"colab-df-container\">\n",
              "      <div>\n",
              "<style scoped>\n",
              "    .dataframe tbody tr th:only-of-type {\n",
              "        vertical-align: middle;\n",
              "    }\n",
              "\n",
              "    .dataframe tbody tr th {\n",
              "        vertical-align: top;\n",
              "    }\n",
              "\n",
              "    .dataframe thead th {\n",
              "        text-align: right;\n",
              "    }\n",
              "</style>\n",
              "<table border=\"1\" class=\"dataframe\">\n",
              "  <thead>\n",
              "    <tr style=\"text-align: right;\">\n",
              "      <th></th>\n",
              "      <th>customerID</th>\n",
              "      <th>gender</th>\n",
              "      <th>SeniorCitizen</th>\n",
              "      <th>Partner</th>\n",
              "      <th>Dependents</th>\n",
              "      <th>tenure</th>\n",
              "      <th>PhoneService</th>\n",
              "      <th>MultipleLines</th>\n",
              "      <th>InternetService</th>\n",
              "      <th>OnlineSecurity</th>\n",
              "      <th>...</th>\n",
              "      <th>DeviceProtection</th>\n",
              "      <th>TechSupport</th>\n",
              "      <th>StreamingTV</th>\n",
              "      <th>StreamingMovies</th>\n",
              "      <th>Contract</th>\n",
              "      <th>PaperlessBilling</th>\n",
              "      <th>PaymentMethod</th>\n",
              "      <th>MonthlyCharges</th>\n",
              "      <th>TotalCharges</th>\n",
              "      <th>Churn</th>\n",
              "    </tr>\n",
              "  </thead>\n",
              "  <tbody>\n",
              "    <tr>\n",
              "      <th>557</th>\n",
              "      <td>1154-HYWWO</td>\n",
              "      <td>Male</td>\n",
              "      <td>0</td>\n",
              "      <td>No</td>\n",
              "      <td>No</td>\n",
              "      <td>38</td>\n",
              "      <td>Yes</td>\n",
              "      <td>No</td>\n",
              "      <td>DSL</td>\n",
              "      <td>Yes</td>\n",
              "      <td>...</td>\n",
              "      <td>No</td>\n",
              "      <td>Yes</td>\n",
              "      <td>Yes</td>\n",
              "      <td>No</td>\n",
              "      <td>One year</td>\n",
              "      <td>No</td>\n",
              "      <td>Mailed check</td>\n",
              "      <td>70.60</td>\n",
              "      <td>2708.2</td>\n",
              "      <td>No</td>\n",
              "    </tr>\n",
              "    <tr>\n",
              "      <th>5194</th>\n",
              "      <td>1902-XBTFB</td>\n",
              "      <td>Male</td>\n",
              "      <td>0</td>\n",
              "      <td>No</td>\n",
              "      <td>Yes</td>\n",
              "      <td>22</td>\n",
              "      <td>Yes</td>\n",
              "      <td>No</td>\n",
              "      <td>Fiber optic</td>\n",
              "      <td>No</td>\n",
              "      <td>...</td>\n",
              "      <td>Yes</td>\n",
              "      <td>No</td>\n",
              "      <td>Yes</td>\n",
              "      <td>No</td>\n",
              "      <td>Month-to-month</td>\n",
              "      <td>Yes</td>\n",
              "      <td>Electronic check</td>\n",
              "      <td>89.40</td>\n",
              "      <td>2001.5</td>\n",
              "      <td>Yes</td>\n",
              "    </tr>\n",
              "    <tr>\n",
              "      <th>2297</th>\n",
              "      <td>3870-MQAMG</td>\n",
              "      <td>Female</td>\n",
              "      <td>0</td>\n",
              "      <td>Yes</td>\n",
              "      <td>No</td>\n",
              "      <td>54</td>\n",
              "      <td>Yes</td>\n",
              "      <td>Yes</td>\n",
              "      <td>Fiber optic</td>\n",
              "      <td>No</td>\n",
              "      <td>...</td>\n",
              "      <td>Yes</td>\n",
              "      <td>Yes</td>\n",
              "      <td>Yes</td>\n",
              "      <td>Yes</td>\n",
              "      <td>One year</td>\n",
              "      <td>No</td>\n",
              "      <td>Electronic check</td>\n",
              "      <td>110.35</td>\n",
              "      <td>5893.15</td>\n",
              "      <td>Yes</td>\n",
              "    </tr>\n",
              "    <tr>\n",
              "      <th>780</th>\n",
              "      <td>5676-CFLYY</td>\n",
              "      <td>Male</td>\n",
              "      <td>0</td>\n",
              "      <td>Yes</td>\n",
              "      <td>Yes</td>\n",
              "      <td>71</td>\n",
              "      <td>Yes</td>\n",
              "      <td>No</td>\n",
              "      <td>DSL</td>\n",
              "      <td>No</td>\n",
              "      <td>...</td>\n",
              "      <td>No</td>\n",
              "      <td>Yes</td>\n",
              "      <td>Yes</td>\n",
              "      <td>Yes</td>\n",
              "      <td>Two year</td>\n",
              "      <td>Yes</td>\n",
              "      <td>Credit card (automatic)</td>\n",
              "      <td>73.35</td>\n",
              "      <td>5154.5</td>\n",
              "      <td>No</td>\n",
              "    </tr>\n",
              "    <tr>\n",
              "      <th>6941</th>\n",
              "      <td>2405-LBMUW</td>\n",
              "      <td>Female</td>\n",
              "      <td>0</td>\n",
              "      <td>Yes</td>\n",
              "      <td>Yes</td>\n",
              "      <td>61</td>\n",
              "      <td>No</td>\n",
              "      <td>No phone service</td>\n",
              "      <td>DSL</td>\n",
              "      <td>Yes</td>\n",
              "      <td>...</td>\n",
              "      <td>No</td>\n",
              "      <td>Yes</td>\n",
              "      <td>No</td>\n",
              "      <td>Yes</td>\n",
              "      <td>One year</td>\n",
              "      <td>Yes</td>\n",
              "      <td>Bank transfer (automatic)</td>\n",
              "      <td>50.70</td>\n",
              "      <td>3088.75</td>\n",
              "      <td>No</td>\n",
              "    </tr>\n",
              "  </tbody>\n",
              "</table>\n",
              "<p>5 rows × 21 columns</p>\n",
              "</div>\n",
              "      <button class=\"colab-df-convert\" onclick=\"convertToInteractive('df-3c528ed1-bbcb-47ec-b2ef-df23ee373e28')\"\n",
              "              title=\"Convert this dataframe to an interactive table.\"\n",
              "              style=\"display:none;\">\n",
              "        \n",
              "  <svg xmlns=\"http://www.w3.org/2000/svg\" height=\"24px\"viewBox=\"0 0 24 24\"\n",
              "       width=\"24px\">\n",
              "    <path d=\"M0 0h24v24H0V0z\" fill=\"none\"/>\n",
              "    <path d=\"M18.56 5.44l.94 2.06.94-2.06 2.06-.94-2.06-.94-.94-2.06-.94 2.06-2.06.94zm-11 1L8.5 8.5l.94-2.06 2.06-.94-2.06-.94L8.5 2.5l-.94 2.06-2.06.94zm10 10l.94 2.06.94-2.06 2.06-.94-2.06-.94-.94-2.06-.94 2.06-2.06.94z\"/><path d=\"M17.41 7.96l-1.37-1.37c-.4-.4-.92-.59-1.43-.59-.52 0-1.04.2-1.43.59L10.3 9.45l-7.72 7.72c-.78.78-.78 2.05 0 2.83L4 21.41c.39.39.9.59 1.41.59.51 0 1.02-.2 1.41-.59l7.78-7.78 2.81-2.81c.8-.78.8-2.07 0-2.86zM5.41 20L4 18.59l7.72-7.72 1.47 1.35L5.41 20z\"/>\n",
              "  </svg>\n",
              "      </button>\n",
              "      \n",
              "  <style>\n",
              "    .colab-df-container {\n",
              "      display:flex;\n",
              "      flex-wrap:wrap;\n",
              "      gap: 12px;\n",
              "    }\n",
              "\n",
              "    .colab-df-convert {\n",
              "      background-color: #E8F0FE;\n",
              "      border: none;\n",
              "      border-radius: 50%;\n",
              "      cursor: pointer;\n",
              "      display: none;\n",
              "      fill: #1967D2;\n",
              "      height: 32px;\n",
              "      padding: 0 0 0 0;\n",
              "      width: 32px;\n",
              "    }\n",
              "\n",
              "    .colab-df-convert:hover {\n",
              "      background-color: #E2EBFA;\n",
              "      box-shadow: 0px 1px 2px rgba(60, 64, 67, 0.3), 0px 1px 3px 1px rgba(60, 64, 67, 0.15);\n",
              "      fill: #174EA6;\n",
              "    }\n",
              "\n",
              "    [theme=dark] .colab-df-convert {\n",
              "      background-color: #3B4455;\n",
              "      fill: #D2E3FC;\n",
              "    }\n",
              "\n",
              "    [theme=dark] .colab-df-convert:hover {\n",
              "      background-color: #434B5C;\n",
              "      box-shadow: 0px 1px 3px 1px rgba(0, 0, 0, 0.15);\n",
              "      filter: drop-shadow(0px 1px 2px rgba(0, 0, 0, 0.3));\n",
              "      fill: #FFFFFF;\n",
              "    }\n",
              "  </style>\n",
              "\n",
              "      <script>\n",
              "        const buttonEl =\n",
              "          document.querySelector('#df-3c528ed1-bbcb-47ec-b2ef-df23ee373e28 button.colab-df-convert');\n",
              "        buttonEl.style.display =\n",
              "          google.colab.kernel.accessAllowed ? 'block' : 'none';\n",
              "\n",
              "        async function convertToInteractive(key) {\n",
              "          const element = document.querySelector('#df-3c528ed1-bbcb-47ec-b2ef-df23ee373e28');\n",
              "          const dataTable =\n",
              "            await google.colab.kernel.invokeFunction('convertToInteractive',\n",
              "                                                     [key], {});\n",
              "          if (!dataTable) return;\n",
              "\n",
              "          const docLinkHtml = 'Like what you see? Visit the ' +\n",
              "            '<a target=\"_blank\" href=https://colab.research.google.com/notebooks/data_table.ipynb>data table notebook</a>'\n",
              "            + ' to learn more about interactive tables.';\n",
              "          element.innerHTML = '';\n",
              "          dataTable['output_type'] = 'display_data';\n",
              "          await google.colab.output.renderOutput(dataTable, element);\n",
              "          const docLink = document.createElement('div');\n",
              "          docLink.innerHTML = docLinkHtml;\n",
              "          element.appendChild(docLink);\n",
              "        }\n",
              "      </script>\n",
              "    </div>\n",
              "  </div>\n",
              "  "
            ]
          },
          "metadata": {},
          "execution_count": 2
        }
      ]
    },
    {
      "cell_type": "markdown",
      "source": [
        "Dropping Columns Not Required"
      ],
      "metadata": {
        "id": "4QagXa9n1up2"
      }
    },
    {
      "cell_type": "code",
      "source": [
        "df.drop('customerID',axis='columns',inplace=True)"
      ],
      "metadata": {
        "id": "1nNnbUya1xWB"
      },
      "execution_count": 3,
      "outputs": []
    },
    {
      "cell_type": "markdown",
      "source": [
        "Data Types of Parameters"
      ],
      "metadata": {
        "id": "jKArMWxY1_1m"
      }
    },
    {
      "cell_type": "code",
      "source": [
        "df.dtypes"
      ],
      "metadata": {
        "colab": {
          "base_uri": "https://localhost:8080/",
          "height": 0
        },
        "id": "jdE_PBoa2Eoh",
        "outputId": "082118aa-997a-4c20-b561-1e2b1ea6dfd0"
      },
      "execution_count": 4,
      "outputs": [
        {
          "output_type": "execute_result",
          "data": {
            "text/plain": [
              "gender               object\n",
              "SeniorCitizen         int64\n",
              "Partner              object\n",
              "Dependents           object\n",
              "tenure                int64\n",
              "PhoneService         object\n",
              "MultipleLines        object\n",
              "InternetService      object\n",
              "OnlineSecurity       object\n",
              "OnlineBackup         object\n",
              "DeviceProtection     object\n",
              "TechSupport          object\n",
              "StreamingTV          object\n",
              "StreamingMovies      object\n",
              "Contract             object\n",
              "PaperlessBilling     object\n",
              "PaymentMethod        object\n",
              "MonthlyCharges      float64\n",
              "TotalCharges         object\n",
              "Churn                object\n",
              "dtype: object"
            ]
          },
          "metadata": {},
          "execution_count": 4
        }
      ]
    },
    {
      "cell_type": "code",
      "source": [
        "df.TotalCharges.values"
      ],
      "metadata": {
        "colab": {
          "base_uri": "https://localhost:8080/",
          "height": 0
        },
        "id": "3znScGXd2M6G",
        "outputId": "e79042b8-1388-4022-c7f1-4dba662704d4"
      },
      "execution_count": 5,
      "outputs": [
        {
          "output_type": "execute_result",
          "data": {
            "text/plain": [
              "array(['29.85', '1889.5', '108.15', ..., '346.45', '306.6', '6844.5'],\n",
              "      dtype=object)"
            ]
          },
          "metadata": {},
          "execution_count": 5
        }
      ]
    },
    {
      "cell_type": "markdown",
      "source": [
        "Total Charges are STRING we need to convert it to Numerical values"
      ],
      "metadata": {
        "id": "-gcKdjcl2Jwm"
      }
    },
    {
      "cell_type": "code",
      "source": [
        "pd.to_numeric(df.TotalCharges) # throwing error because some strings are blank."
      ],
      "metadata": {
        "colab": {
          "base_uri": "https://localhost:8080/",
          "height": 305
        },
        "id": "pcrLL3642XPF",
        "outputId": "ab90a4b1-00c4-4007-cf31-ce231dd99a65"
      },
      "execution_count": 6,
      "outputs": [
        {
          "output_type": "error",
          "ename": "ValueError",
          "evalue": "ignored",
          "traceback": [
            "\u001b[0;31m---------------------------------------------------------------------------\u001b[0m",
            "\u001b[0;31mValueError\u001b[0m                                Traceback (most recent call last)",
            "\u001b[0;32m/usr/local/lib/python3.9/dist-packages/pandas/_libs/lib.pyx\u001b[0m in \u001b[0;36mpandas._libs.lib.maybe_convert_numeric\u001b[0;34m()\u001b[0m\n",
            "\u001b[0;31mValueError\u001b[0m: Unable to parse string \" \"",
            "\nDuring handling of the above exception, another exception occurred:\n",
            "\u001b[0;31mValueError\u001b[0m                                Traceback (most recent call last)",
            "\u001b[0;32m<ipython-input-6-06ba430a4ba5>\u001b[0m in \u001b[0;36m<cell line: 1>\u001b[0;34m()\u001b[0m\n\u001b[0;32m----> 1\u001b[0;31m \u001b[0mpd\u001b[0m\u001b[0;34m.\u001b[0m\u001b[0mto_numeric\u001b[0m\u001b[0;34m(\u001b[0m\u001b[0mdf\u001b[0m\u001b[0;34m.\u001b[0m\u001b[0mTotalCharges\u001b[0m\u001b[0;34m)\u001b[0m\u001b[0;34m\u001b[0m\u001b[0;34m\u001b[0m\u001b[0m\n\u001b[0m",
            "\u001b[0;32m/usr/local/lib/python3.9/dist-packages/pandas/core/tools/numeric.py\u001b[0m in \u001b[0;36mto_numeric\u001b[0;34m(arg, errors, downcast)\u001b[0m\n\u001b[1;32m    183\u001b[0m         \u001b[0mcoerce_numeric\u001b[0m \u001b[0;34m=\u001b[0m \u001b[0merrors\u001b[0m \u001b[0;32mnot\u001b[0m \u001b[0;32min\u001b[0m \u001b[0;34m(\u001b[0m\u001b[0;34m\"ignore\"\u001b[0m\u001b[0;34m,\u001b[0m \u001b[0;34m\"raise\"\u001b[0m\u001b[0;34m)\u001b[0m\u001b[0;34m\u001b[0m\u001b[0;34m\u001b[0m\u001b[0m\n\u001b[1;32m    184\u001b[0m         \u001b[0;32mtry\u001b[0m\u001b[0;34m:\u001b[0m\u001b[0;34m\u001b[0m\u001b[0;34m\u001b[0m\u001b[0m\n\u001b[0;32m--> 185\u001b[0;31m             values, _ = lib.maybe_convert_numeric(\n\u001b[0m\u001b[1;32m    186\u001b[0m                 \u001b[0mvalues\u001b[0m\u001b[0;34m,\u001b[0m \u001b[0mset\u001b[0m\u001b[0;34m(\u001b[0m\u001b[0;34m)\u001b[0m\u001b[0;34m,\u001b[0m \u001b[0mcoerce_numeric\u001b[0m\u001b[0;34m=\u001b[0m\u001b[0mcoerce_numeric\u001b[0m\u001b[0;34m\u001b[0m\u001b[0;34m\u001b[0m\u001b[0m\n\u001b[1;32m    187\u001b[0m             )\n",
            "\u001b[0;32m/usr/local/lib/python3.9/dist-packages/pandas/_libs/lib.pyx\u001b[0m in \u001b[0;36mpandas._libs.lib.maybe_convert_numeric\u001b[0;34m()\u001b[0m\n",
            "\u001b[0;31mValueError\u001b[0m: Unable to parse string \" \" at position 488"
          ]
        }
      ]
    },
    {
      "cell_type": "markdown",
      "source": [
        "some string were blank"
      ],
      "metadata": {
        "id": "F0-jrtfr2fxt"
      }
    },
    {
      "cell_type": "code",
      "source": [
        "pd.to_numeric(df.TotalCharges,errors='coerce').isnull()"
      ],
      "metadata": {
        "colab": {
          "base_uri": "https://localhost:8080/",
          "height": 0
        },
        "id": "1QyHiiMf2l0P",
        "outputId": "040584a6-1c8e-48b0-8663-f3b272d6e70a"
      },
      "execution_count": 7,
      "outputs": [
        {
          "output_type": "execute_result",
          "data": {
            "text/plain": [
              "0       False\n",
              "1       False\n",
              "2       False\n",
              "3       False\n",
              "4       False\n",
              "        ...  \n",
              "7038    False\n",
              "7039    False\n",
              "7040    False\n",
              "7041    False\n",
              "7042    False\n",
              "Name: TotalCharges, Length: 7043, dtype: bool"
            ]
          },
          "metadata": {},
          "execution_count": 7
        }
      ]
    },
    {
      "cell_type": "code",
      "source": [
        "df[pd.to_numeric(df.TotalCharges,errors='coerce').isnull()] # printing those rows where total charges is blank"
      ],
      "metadata": {
        "colab": {
          "base_uri": "https://localhost:8080/",
          "height": 615
        },
        "id": "laclLz1z2rT5",
        "outputId": "4db2529b-8e60-4c25-cf12-703d5cecbda5"
      },
      "execution_count": 8,
      "outputs": [
        {
          "output_type": "execute_result",
          "data": {
            "text/plain": [
              "      gender  SeniorCitizen Partner Dependents  tenure PhoneService  \\\n",
              "488   Female              0     Yes        Yes       0           No   \n",
              "753     Male              0      No        Yes       0          Yes   \n",
              "936   Female              0     Yes        Yes       0          Yes   \n",
              "1082    Male              0     Yes        Yes       0          Yes   \n",
              "1340  Female              0     Yes        Yes       0           No   \n",
              "3331    Male              0     Yes        Yes       0          Yes   \n",
              "3826    Male              0     Yes        Yes       0          Yes   \n",
              "4380  Female              0     Yes        Yes       0          Yes   \n",
              "5218    Male              0     Yes        Yes       0          Yes   \n",
              "6670  Female              0     Yes        Yes       0          Yes   \n",
              "6754    Male              0      No        Yes       0          Yes   \n",
              "\n",
              "         MultipleLines InternetService       OnlineSecurity  \\\n",
              "488   No phone service             DSL                  Yes   \n",
              "753                 No              No  No internet service   \n",
              "936                 No             DSL                  Yes   \n",
              "1082               Yes              No  No internet service   \n",
              "1340  No phone service             DSL                  Yes   \n",
              "3331                No              No  No internet service   \n",
              "3826               Yes              No  No internet service   \n",
              "4380                No              No  No internet service   \n",
              "5218                No              No  No internet service   \n",
              "6670               Yes             DSL                   No   \n",
              "6754               Yes             DSL                  Yes   \n",
              "\n",
              "             OnlineBackup     DeviceProtection          TechSupport  \\\n",
              "488                    No                  Yes                  Yes   \n",
              "753   No internet service  No internet service  No internet service   \n",
              "936                   Yes                  Yes                   No   \n",
              "1082  No internet service  No internet service  No internet service   \n",
              "1340                  Yes                  Yes                  Yes   \n",
              "3331  No internet service  No internet service  No internet service   \n",
              "3826  No internet service  No internet service  No internet service   \n",
              "4380  No internet service  No internet service  No internet service   \n",
              "5218  No internet service  No internet service  No internet service   \n",
              "6670                  Yes                  Yes                  Yes   \n",
              "6754                  Yes                   No                  Yes   \n",
              "\n",
              "              StreamingTV      StreamingMovies  Contract PaperlessBilling  \\\n",
              "488                   Yes                   No  Two year              Yes   \n",
              "753   No internet service  No internet service  Two year               No   \n",
              "936                   Yes                  Yes  Two year               No   \n",
              "1082  No internet service  No internet service  Two year               No   \n",
              "1340                  Yes                   No  Two year               No   \n",
              "3331  No internet service  No internet service  Two year               No   \n",
              "3826  No internet service  No internet service  Two year               No   \n",
              "4380  No internet service  No internet service  Two year               No   \n",
              "5218  No internet service  No internet service  One year              Yes   \n",
              "6670                  Yes                   No  Two year               No   \n",
              "6754                   No                   No  Two year              Yes   \n",
              "\n",
              "                  PaymentMethod  MonthlyCharges TotalCharges Churn  \n",
              "488   Bank transfer (automatic)           52.55                 No  \n",
              "753                Mailed check           20.25                 No  \n",
              "936                Mailed check           80.85                 No  \n",
              "1082               Mailed check           25.75                 No  \n",
              "1340    Credit card (automatic)           56.05                 No  \n",
              "3331               Mailed check           19.85                 No  \n",
              "3826               Mailed check           25.35                 No  \n",
              "4380               Mailed check           20.00                 No  \n",
              "5218               Mailed check           19.70                 No  \n",
              "6670               Mailed check           73.35                 No  \n",
              "6754  Bank transfer (automatic)           61.90                 No  "
            ],
            "text/html": [
              "\n",
              "  <div id=\"df-e155975e-0c0a-4bd2-bd09-42903d97904f\">\n",
              "    <div class=\"colab-df-container\">\n",
              "      <div>\n",
              "<style scoped>\n",
              "    .dataframe tbody tr th:only-of-type {\n",
              "        vertical-align: middle;\n",
              "    }\n",
              "\n",
              "    .dataframe tbody tr th {\n",
              "        vertical-align: top;\n",
              "    }\n",
              "\n",
              "    .dataframe thead th {\n",
              "        text-align: right;\n",
              "    }\n",
              "</style>\n",
              "<table border=\"1\" class=\"dataframe\">\n",
              "  <thead>\n",
              "    <tr style=\"text-align: right;\">\n",
              "      <th></th>\n",
              "      <th>gender</th>\n",
              "      <th>SeniorCitizen</th>\n",
              "      <th>Partner</th>\n",
              "      <th>Dependents</th>\n",
              "      <th>tenure</th>\n",
              "      <th>PhoneService</th>\n",
              "      <th>MultipleLines</th>\n",
              "      <th>InternetService</th>\n",
              "      <th>OnlineSecurity</th>\n",
              "      <th>OnlineBackup</th>\n",
              "      <th>DeviceProtection</th>\n",
              "      <th>TechSupport</th>\n",
              "      <th>StreamingTV</th>\n",
              "      <th>StreamingMovies</th>\n",
              "      <th>Contract</th>\n",
              "      <th>PaperlessBilling</th>\n",
              "      <th>PaymentMethod</th>\n",
              "      <th>MonthlyCharges</th>\n",
              "      <th>TotalCharges</th>\n",
              "      <th>Churn</th>\n",
              "    </tr>\n",
              "  </thead>\n",
              "  <tbody>\n",
              "    <tr>\n",
              "      <th>488</th>\n",
              "      <td>Female</td>\n",
              "      <td>0</td>\n",
              "      <td>Yes</td>\n",
              "      <td>Yes</td>\n",
              "      <td>0</td>\n",
              "      <td>No</td>\n",
              "      <td>No phone service</td>\n",
              "      <td>DSL</td>\n",
              "      <td>Yes</td>\n",
              "      <td>No</td>\n",
              "      <td>Yes</td>\n",
              "      <td>Yes</td>\n",
              "      <td>Yes</td>\n",
              "      <td>No</td>\n",
              "      <td>Two year</td>\n",
              "      <td>Yes</td>\n",
              "      <td>Bank transfer (automatic)</td>\n",
              "      <td>52.55</td>\n",
              "      <td></td>\n",
              "      <td>No</td>\n",
              "    </tr>\n",
              "    <tr>\n",
              "      <th>753</th>\n",
              "      <td>Male</td>\n",
              "      <td>0</td>\n",
              "      <td>No</td>\n",
              "      <td>Yes</td>\n",
              "      <td>0</td>\n",
              "      <td>Yes</td>\n",
              "      <td>No</td>\n",
              "      <td>No</td>\n",
              "      <td>No internet service</td>\n",
              "      <td>No internet service</td>\n",
              "      <td>No internet service</td>\n",
              "      <td>No internet service</td>\n",
              "      <td>No internet service</td>\n",
              "      <td>No internet service</td>\n",
              "      <td>Two year</td>\n",
              "      <td>No</td>\n",
              "      <td>Mailed check</td>\n",
              "      <td>20.25</td>\n",
              "      <td></td>\n",
              "      <td>No</td>\n",
              "    </tr>\n",
              "    <tr>\n",
              "      <th>936</th>\n",
              "      <td>Female</td>\n",
              "      <td>0</td>\n",
              "      <td>Yes</td>\n",
              "      <td>Yes</td>\n",
              "      <td>0</td>\n",
              "      <td>Yes</td>\n",
              "      <td>No</td>\n",
              "      <td>DSL</td>\n",
              "      <td>Yes</td>\n",
              "      <td>Yes</td>\n",
              "      <td>Yes</td>\n",
              "      <td>No</td>\n",
              "      <td>Yes</td>\n",
              "      <td>Yes</td>\n",
              "      <td>Two year</td>\n",
              "      <td>No</td>\n",
              "      <td>Mailed check</td>\n",
              "      <td>80.85</td>\n",
              "      <td></td>\n",
              "      <td>No</td>\n",
              "    </tr>\n",
              "    <tr>\n",
              "      <th>1082</th>\n",
              "      <td>Male</td>\n",
              "      <td>0</td>\n",
              "      <td>Yes</td>\n",
              "      <td>Yes</td>\n",
              "      <td>0</td>\n",
              "      <td>Yes</td>\n",
              "      <td>Yes</td>\n",
              "      <td>No</td>\n",
              "      <td>No internet service</td>\n",
              "      <td>No internet service</td>\n",
              "      <td>No internet service</td>\n",
              "      <td>No internet service</td>\n",
              "      <td>No internet service</td>\n",
              "      <td>No internet service</td>\n",
              "      <td>Two year</td>\n",
              "      <td>No</td>\n",
              "      <td>Mailed check</td>\n",
              "      <td>25.75</td>\n",
              "      <td></td>\n",
              "      <td>No</td>\n",
              "    </tr>\n",
              "    <tr>\n",
              "      <th>1340</th>\n",
              "      <td>Female</td>\n",
              "      <td>0</td>\n",
              "      <td>Yes</td>\n",
              "      <td>Yes</td>\n",
              "      <td>0</td>\n",
              "      <td>No</td>\n",
              "      <td>No phone service</td>\n",
              "      <td>DSL</td>\n",
              "      <td>Yes</td>\n",
              "      <td>Yes</td>\n",
              "      <td>Yes</td>\n",
              "      <td>Yes</td>\n",
              "      <td>Yes</td>\n",
              "      <td>No</td>\n",
              "      <td>Two year</td>\n",
              "      <td>No</td>\n",
              "      <td>Credit card (automatic)</td>\n",
              "      <td>56.05</td>\n",
              "      <td></td>\n",
              "      <td>No</td>\n",
              "    </tr>\n",
              "    <tr>\n",
              "      <th>3331</th>\n",
              "      <td>Male</td>\n",
              "      <td>0</td>\n",
              "      <td>Yes</td>\n",
              "      <td>Yes</td>\n",
              "      <td>0</td>\n",
              "      <td>Yes</td>\n",
              "      <td>No</td>\n",
              "      <td>No</td>\n",
              "      <td>No internet service</td>\n",
              "      <td>No internet service</td>\n",
              "      <td>No internet service</td>\n",
              "      <td>No internet service</td>\n",
              "      <td>No internet service</td>\n",
              "      <td>No internet service</td>\n",
              "      <td>Two year</td>\n",
              "      <td>No</td>\n",
              "      <td>Mailed check</td>\n",
              "      <td>19.85</td>\n",
              "      <td></td>\n",
              "      <td>No</td>\n",
              "    </tr>\n",
              "    <tr>\n",
              "      <th>3826</th>\n",
              "      <td>Male</td>\n",
              "      <td>0</td>\n",
              "      <td>Yes</td>\n",
              "      <td>Yes</td>\n",
              "      <td>0</td>\n",
              "      <td>Yes</td>\n",
              "      <td>Yes</td>\n",
              "      <td>No</td>\n",
              "      <td>No internet service</td>\n",
              "      <td>No internet service</td>\n",
              "      <td>No internet service</td>\n",
              "      <td>No internet service</td>\n",
              "      <td>No internet service</td>\n",
              "      <td>No internet service</td>\n",
              "      <td>Two year</td>\n",
              "      <td>No</td>\n",
              "      <td>Mailed check</td>\n",
              "      <td>25.35</td>\n",
              "      <td></td>\n",
              "      <td>No</td>\n",
              "    </tr>\n",
              "    <tr>\n",
              "      <th>4380</th>\n",
              "      <td>Female</td>\n",
              "      <td>0</td>\n",
              "      <td>Yes</td>\n",
              "      <td>Yes</td>\n",
              "      <td>0</td>\n",
              "      <td>Yes</td>\n",
              "      <td>No</td>\n",
              "      <td>No</td>\n",
              "      <td>No internet service</td>\n",
              "      <td>No internet service</td>\n",
              "      <td>No internet service</td>\n",
              "      <td>No internet service</td>\n",
              "      <td>No internet service</td>\n",
              "      <td>No internet service</td>\n",
              "      <td>Two year</td>\n",
              "      <td>No</td>\n",
              "      <td>Mailed check</td>\n",
              "      <td>20.00</td>\n",
              "      <td></td>\n",
              "      <td>No</td>\n",
              "    </tr>\n",
              "    <tr>\n",
              "      <th>5218</th>\n",
              "      <td>Male</td>\n",
              "      <td>0</td>\n",
              "      <td>Yes</td>\n",
              "      <td>Yes</td>\n",
              "      <td>0</td>\n",
              "      <td>Yes</td>\n",
              "      <td>No</td>\n",
              "      <td>No</td>\n",
              "      <td>No internet service</td>\n",
              "      <td>No internet service</td>\n",
              "      <td>No internet service</td>\n",
              "      <td>No internet service</td>\n",
              "      <td>No internet service</td>\n",
              "      <td>No internet service</td>\n",
              "      <td>One year</td>\n",
              "      <td>Yes</td>\n",
              "      <td>Mailed check</td>\n",
              "      <td>19.70</td>\n",
              "      <td></td>\n",
              "      <td>No</td>\n",
              "    </tr>\n",
              "    <tr>\n",
              "      <th>6670</th>\n",
              "      <td>Female</td>\n",
              "      <td>0</td>\n",
              "      <td>Yes</td>\n",
              "      <td>Yes</td>\n",
              "      <td>0</td>\n",
              "      <td>Yes</td>\n",
              "      <td>Yes</td>\n",
              "      <td>DSL</td>\n",
              "      <td>No</td>\n",
              "      <td>Yes</td>\n",
              "      <td>Yes</td>\n",
              "      <td>Yes</td>\n",
              "      <td>Yes</td>\n",
              "      <td>No</td>\n",
              "      <td>Two year</td>\n",
              "      <td>No</td>\n",
              "      <td>Mailed check</td>\n",
              "      <td>73.35</td>\n",
              "      <td></td>\n",
              "      <td>No</td>\n",
              "    </tr>\n",
              "    <tr>\n",
              "      <th>6754</th>\n",
              "      <td>Male</td>\n",
              "      <td>0</td>\n",
              "      <td>No</td>\n",
              "      <td>Yes</td>\n",
              "      <td>0</td>\n",
              "      <td>Yes</td>\n",
              "      <td>Yes</td>\n",
              "      <td>DSL</td>\n",
              "      <td>Yes</td>\n",
              "      <td>Yes</td>\n",
              "      <td>No</td>\n",
              "      <td>Yes</td>\n",
              "      <td>No</td>\n",
              "      <td>No</td>\n",
              "      <td>Two year</td>\n",
              "      <td>Yes</td>\n",
              "      <td>Bank transfer (automatic)</td>\n",
              "      <td>61.90</td>\n",
              "      <td></td>\n",
              "      <td>No</td>\n",
              "    </tr>\n",
              "  </tbody>\n",
              "</table>\n",
              "</div>\n",
              "      <button class=\"colab-df-convert\" onclick=\"convertToInteractive('df-e155975e-0c0a-4bd2-bd09-42903d97904f')\"\n",
              "              title=\"Convert this dataframe to an interactive table.\"\n",
              "              style=\"display:none;\">\n",
              "        \n",
              "  <svg xmlns=\"http://www.w3.org/2000/svg\" height=\"24px\"viewBox=\"0 0 24 24\"\n",
              "       width=\"24px\">\n",
              "    <path d=\"M0 0h24v24H0V0z\" fill=\"none\"/>\n",
              "    <path d=\"M18.56 5.44l.94 2.06.94-2.06 2.06-.94-2.06-.94-.94-2.06-.94 2.06-2.06.94zm-11 1L8.5 8.5l.94-2.06 2.06-.94-2.06-.94L8.5 2.5l-.94 2.06-2.06.94zm10 10l.94 2.06.94-2.06 2.06-.94-2.06-.94-.94-2.06-.94 2.06-2.06.94z\"/><path d=\"M17.41 7.96l-1.37-1.37c-.4-.4-.92-.59-1.43-.59-.52 0-1.04.2-1.43.59L10.3 9.45l-7.72 7.72c-.78.78-.78 2.05 0 2.83L4 21.41c.39.39.9.59 1.41.59.51 0 1.02-.2 1.41-.59l7.78-7.78 2.81-2.81c.8-.78.8-2.07 0-2.86zM5.41 20L4 18.59l7.72-7.72 1.47 1.35L5.41 20z\"/>\n",
              "  </svg>\n",
              "      </button>\n",
              "      \n",
              "  <style>\n",
              "    .colab-df-container {\n",
              "      display:flex;\n",
              "      flex-wrap:wrap;\n",
              "      gap: 12px;\n",
              "    }\n",
              "\n",
              "    .colab-df-convert {\n",
              "      background-color: #E8F0FE;\n",
              "      border: none;\n",
              "      border-radius: 50%;\n",
              "      cursor: pointer;\n",
              "      display: none;\n",
              "      fill: #1967D2;\n",
              "      height: 32px;\n",
              "      padding: 0 0 0 0;\n",
              "      width: 32px;\n",
              "    }\n",
              "\n",
              "    .colab-df-convert:hover {\n",
              "      background-color: #E2EBFA;\n",
              "      box-shadow: 0px 1px 2px rgba(60, 64, 67, 0.3), 0px 1px 3px 1px rgba(60, 64, 67, 0.15);\n",
              "      fill: #174EA6;\n",
              "    }\n",
              "\n",
              "    [theme=dark] .colab-df-convert {\n",
              "      background-color: #3B4455;\n",
              "      fill: #D2E3FC;\n",
              "    }\n",
              "\n",
              "    [theme=dark] .colab-df-convert:hover {\n",
              "      background-color: #434B5C;\n",
              "      box-shadow: 0px 1px 3px 1px rgba(0, 0, 0, 0.15);\n",
              "      filter: drop-shadow(0px 1px 2px rgba(0, 0, 0, 0.3));\n",
              "      fill: #FFFFFF;\n",
              "    }\n",
              "  </style>\n",
              "\n",
              "      <script>\n",
              "        const buttonEl =\n",
              "          document.querySelector('#df-e155975e-0c0a-4bd2-bd09-42903d97904f button.colab-df-convert');\n",
              "        buttonEl.style.display =\n",
              "          google.colab.kernel.accessAllowed ? 'block' : 'none';\n",
              "\n",
              "        async function convertToInteractive(key) {\n",
              "          const element = document.querySelector('#df-e155975e-0c0a-4bd2-bd09-42903d97904f');\n",
              "          const dataTable =\n",
              "            await google.colab.kernel.invokeFunction('convertToInteractive',\n",
              "                                                     [key], {});\n",
              "          if (!dataTable) return;\n",
              "\n",
              "          const docLinkHtml = 'Like what you see? Visit the ' +\n",
              "            '<a target=\"_blank\" href=https://colab.research.google.com/notebooks/data_table.ipynb>data table notebook</a>'\n",
              "            + ' to learn more about interactive tables.';\n",
              "          element.innerHTML = '';\n",
              "          dataTable['output_type'] = 'display_data';\n",
              "          await google.colab.output.renderOutput(dataTable, element);\n",
              "          const docLink = document.createElement('div');\n",
              "          docLink.innerHTML = docLinkHtml;\n",
              "          element.appendChild(docLink);\n",
              "        }\n",
              "      </script>\n",
              "    </div>\n",
              "  </div>\n",
              "  "
            ]
          },
          "metadata": {},
          "execution_count": 8
        }
      ]
    },
    {
      "cell_type": "markdown",
      "source": [
        "We will remove rows which have blank Totalcharges"
      ],
      "metadata": {
        "id": "YTASSyLz235r"
      }
    },
    {
      "cell_type": "code",
      "source": [
        "print(df.shape)\n",
        "df1 = df[df.TotalCharges!=' '] # Storing the new dataframe in df1 after dropping rows\n",
        "df1.shape"
      ],
      "metadata": {
        "colab": {
          "base_uri": "https://localhost:8080/",
          "height": 0
        },
        "id": "R1LUEvaJ3CHn",
        "outputId": "b1d1fa46-089d-443d-9ab9-365b68311a73"
      },
      "execution_count": 11,
      "outputs": [
        {
          "output_type": "stream",
          "name": "stdout",
          "text": [
            "(7043, 20)\n"
          ]
        },
        {
          "output_type": "execute_result",
          "data": {
            "text/plain": [
              "(7032, 20)"
            ]
          },
          "metadata": {},
          "execution_count": 11
        }
      ]
    },
    {
      "cell_type": "markdown",
      "source": [
        "Now Converting the strings to numerical for new DATA FRAME (Df1)"
      ],
      "metadata": {
        "id": "KWT1x-ZI3Xu7"
      }
    },
    {
      "cell_type": "code",
      "source": [
        "df1.TotalCharges = pd.to_numeric(df1.TotalCharges) #function to convert strings to numerical values\n"
      ],
      "metadata": {
        "colab": {
          "base_uri": "https://localhost:8080/",
          "height": 0
        },
        "id": "3ZtGqAa33fpG",
        "outputId": "a33431fd-93bc-4623-c3c1-70ce8c6ee334"
      },
      "execution_count": 12,
      "outputs": [
        {
          "output_type": "stream",
          "name": "stderr",
          "text": [
            "<ipython-input-12-b67e0c3d31a6>:1: SettingWithCopyWarning: \n",
            "A value is trying to be set on a copy of a slice from a DataFrame.\n",
            "Try using .loc[row_indexer,col_indexer] = value instead\n",
            "\n",
            "See the caveats in the documentation: https://pandas.pydata.org/pandas-docs/stable/user_guide/indexing.html#returning-a-view-versus-a-copy\n",
            "  df1.TotalCharges = pd.to_numeric(df1.TotalCharges)\n"
          ]
        }
      ]
    },
    {
      "cell_type": "markdown",
      "source": [
        "We converted the datatype of total charges to float"
      ],
      "metadata": {
        "id": "dweH2FrL30at"
      }
    },
    {
      "cell_type": "code",
      "source": [
        "df1.dtypes"
      ],
      "metadata": {
        "colab": {
          "base_uri": "https://localhost:8080/",
          "height": 0
        },
        "id": "SByKCDsH3xQ1",
        "outputId": "b9142521-14e8-475f-c651-94168588442a"
      },
      "execution_count": 13,
      "outputs": [
        {
          "output_type": "execute_result",
          "data": {
            "text/plain": [
              "gender               object\n",
              "SeniorCitizen         int64\n",
              "Partner              object\n",
              "Dependents           object\n",
              "tenure                int64\n",
              "PhoneService         object\n",
              "MultipleLines        object\n",
              "InternetService      object\n",
              "OnlineSecurity       object\n",
              "OnlineBackup         object\n",
              "DeviceProtection     object\n",
              "TechSupport          object\n",
              "StreamingTV          object\n",
              "StreamingMovies      object\n",
              "Contract             object\n",
              "PaperlessBilling     object\n",
              "PaymentMethod        object\n",
              "MonthlyCharges      float64\n",
              "TotalCharges        float64\n",
              "Churn                object\n",
              "dtype: object"
            ]
          },
          "metadata": {},
          "execution_count": 13
        }
      ]
    },
    {
      "cell_type": "code",
      "source": [
        "df1.TotalCharges.values # prints an array of total charges"
      ],
      "metadata": {
        "colab": {
          "base_uri": "https://localhost:8080/",
          "height": 0
        },
        "id": "TL8SNxLf343m",
        "outputId": "d090abf4-e77c-4cbb-adcb-98dec3061e90"
      },
      "execution_count": 14,
      "outputs": [
        {
          "output_type": "execute_result",
          "data": {
            "text/plain": [
              "array([  29.85, 1889.5 ,  108.15, ...,  346.45,  306.6 , 6844.5 ])"
            ]
          },
          "metadata": {},
          "execution_count": 14
        }
      ]
    },
    {
      "cell_type": "code",
      "source": [
        "df1[df1.Churn=='No'] #Taking Insghts from the data set where Churn is NO"
      ],
      "metadata": {
        "colab": {
          "base_uri": "https://localhost:8080/",
          "height": 627
        },
        "id": "SQ7CEhdm3_xA",
        "outputId": "1f6ca932-200a-48eb-8533-e7b1b86862e2"
      },
      "execution_count": 15,
      "outputs": [
        {
          "output_type": "execute_result",
          "data": {
            "text/plain": [
              "      gender  SeniorCitizen Partner Dependents  tenure PhoneService  \\\n",
              "0     Female              0     Yes         No       1           No   \n",
              "1       Male              0      No         No      34          Yes   \n",
              "3       Male              0      No         No      45           No   \n",
              "6       Male              0      No        Yes      22          Yes   \n",
              "7     Female              0      No         No      10           No   \n",
              "...      ...            ...     ...        ...     ...          ...   \n",
              "7037  Female              0      No         No      72          Yes   \n",
              "7038    Male              0     Yes        Yes      24          Yes   \n",
              "7039  Female              0     Yes        Yes      72          Yes   \n",
              "7040  Female              0     Yes        Yes      11           No   \n",
              "7042    Male              0      No         No      66          Yes   \n",
              "\n",
              "         MultipleLines InternetService       OnlineSecurity  \\\n",
              "0     No phone service             DSL                   No   \n",
              "1                   No             DSL                  Yes   \n",
              "3     No phone service             DSL                  Yes   \n",
              "6                  Yes     Fiber optic                   No   \n",
              "7     No phone service             DSL                  Yes   \n",
              "...                ...             ...                  ...   \n",
              "7037                No              No  No internet service   \n",
              "7038               Yes             DSL                  Yes   \n",
              "7039               Yes     Fiber optic                   No   \n",
              "7040  No phone service             DSL                  Yes   \n",
              "7042                No     Fiber optic                  Yes   \n",
              "\n",
              "             OnlineBackup     DeviceProtection          TechSupport  \\\n",
              "0                     Yes                   No                   No   \n",
              "1                      No                  Yes                   No   \n",
              "3                      No                  Yes                  Yes   \n",
              "6                     Yes                   No                   No   \n",
              "7                      No                   No                   No   \n",
              "...                   ...                  ...                  ...   \n",
              "7037  No internet service  No internet service  No internet service   \n",
              "7038                   No                  Yes                  Yes   \n",
              "7039                  Yes                  Yes                   No   \n",
              "7040                   No                   No                   No   \n",
              "7042                   No                  Yes                  Yes   \n",
              "\n",
              "              StreamingTV      StreamingMovies        Contract  \\\n",
              "0                      No                   No  Month-to-month   \n",
              "1                      No                   No        One year   \n",
              "3                      No                   No        One year   \n",
              "6                     Yes                   No  Month-to-month   \n",
              "7                      No                   No  Month-to-month   \n",
              "...                   ...                  ...             ...   \n",
              "7037  No internet service  No internet service        Two year   \n",
              "7038                  Yes                  Yes        One year   \n",
              "7039                  Yes                  Yes        One year   \n",
              "7040                   No                   No  Month-to-month   \n",
              "7042                  Yes                  Yes        Two year   \n",
              "\n",
              "     PaperlessBilling              PaymentMethod  MonthlyCharges  \\\n",
              "0                 Yes           Electronic check           29.85   \n",
              "1                  No               Mailed check           56.95   \n",
              "3                  No  Bank transfer (automatic)           42.30   \n",
              "6                 Yes    Credit card (automatic)           89.10   \n",
              "7                  No               Mailed check           29.75   \n",
              "...               ...                        ...             ...   \n",
              "7037              Yes  Bank transfer (automatic)           21.15   \n",
              "7038              Yes               Mailed check           84.80   \n",
              "7039              Yes    Credit card (automatic)          103.20   \n",
              "7040              Yes           Electronic check           29.60   \n",
              "7042              Yes  Bank transfer (automatic)          105.65   \n",
              "\n",
              "      TotalCharges Churn  \n",
              "0            29.85    No  \n",
              "1          1889.50    No  \n",
              "3          1840.75    No  \n",
              "6          1949.40    No  \n",
              "7           301.90    No  \n",
              "...            ...   ...  \n",
              "7037       1419.40    No  \n",
              "7038       1990.50    No  \n",
              "7039       7362.90    No  \n",
              "7040        346.45    No  \n",
              "7042       6844.50    No  \n",
              "\n",
              "[5163 rows x 20 columns]"
            ],
            "text/html": [
              "\n",
              "  <div id=\"df-d143b399-e7b1-4e99-8c53-44281386100e\">\n",
              "    <div class=\"colab-df-container\">\n",
              "      <div>\n",
              "<style scoped>\n",
              "    .dataframe tbody tr th:only-of-type {\n",
              "        vertical-align: middle;\n",
              "    }\n",
              "\n",
              "    .dataframe tbody tr th {\n",
              "        vertical-align: top;\n",
              "    }\n",
              "\n",
              "    .dataframe thead th {\n",
              "        text-align: right;\n",
              "    }\n",
              "</style>\n",
              "<table border=\"1\" class=\"dataframe\">\n",
              "  <thead>\n",
              "    <tr style=\"text-align: right;\">\n",
              "      <th></th>\n",
              "      <th>gender</th>\n",
              "      <th>SeniorCitizen</th>\n",
              "      <th>Partner</th>\n",
              "      <th>Dependents</th>\n",
              "      <th>tenure</th>\n",
              "      <th>PhoneService</th>\n",
              "      <th>MultipleLines</th>\n",
              "      <th>InternetService</th>\n",
              "      <th>OnlineSecurity</th>\n",
              "      <th>OnlineBackup</th>\n",
              "      <th>DeviceProtection</th>\n",
              "      <th>TechSupport</th>\n",
              "      <th>StreamingTV</th>\n",
              "      <th>StreamingMovies</th>\n",
              "      <th>Contract</th>\n",
              "      <th>PaperlessBilling</th>\n",
              "      <th>PaymentMethod</th>\n",
              "      <th>MonthlyCharges</th>\n",
              "      <th>TotalCharges</th>\n",
              "      <th>Churn</th>\n",
              "    </tr>\n",
              "  </thead>\n",
              "  <tbody>\n",
              "    <tr>\n",
              "      <th>0</th>\n",
              "      <td>Female</td>\n",
              "      <td>0</td>\n",
              "      <td>Yes</td>\n",
              "      <td>No</td>\n",
              "      <td>1</td>\n",
              "      <td>No</td>\n",
              "      <td>No phone service</td>\n",
              "      <td>DSL</td>\n",
              "      <td>No</td>\n",
              "      <td>Yes</td>\n",
              "      <td>No</td>\n",
              "      <td>No</td>\n",
              "      <td>No</td>\n",
              "      <td>No</td>\n",
              "      <td>Month-to-month</td>\n",
              "      <td>Yes</td>\n",
              "      <td>Electronic check</td>\n",
              "      <td>29.85</td>\n",
              "      <td>29.85</td>\n",
              "      <td>No</td>\n",
              "    </tr>\n",
              "    <tr>\n",
              "      <th>1</th>\n",
              "      <td>Male</td>\n",
              "      <td>0</td>\n",
              "      <td>No</td>\n",
              "      <td>No</td>\n",
              "      <td>34</td>\n",
              "      <td>Yes</td>\n",
              "      <td>No</td>\n",
              "      <td>DSL</td>\n",
              "      <td>Yes</td>\n",
              "      <td>No</td>\n",
              "      <td>Yes</td>\n",
              "      <td>No</td>\n",
              "      <td>No</td>\n",
              "      <td>No</td>\n",
              "      <td>One year</td>\n",
              "      <td>No</td>\n",
              "      <td>Mailed check</td>\n",
              "      <td>56.95</td>\n",
              "      <td>1889.50</td>\n",
              "      <td>No</td>\n",
              "    </tr>\n",
              "    <tr>\n",
              "      <th>3</th>\n",
              "      <td>Male</td>\n",
              "      <td>0</td>\n",
              "      <td>No</td>\n",
              "      <td>No</td>\n",
              "      <td>45</td>\n",
              "      <td>No</td>\n",
              "      <td>No phone service</td>\n",
              "      <td>DSL</td>\n",
              "      <td>Yes</td>\n",
              "      <td>No</td>\n",
              "      <td>Yes</td>\n",
              "      <td>Yes</td>\n",
              "      <td>No</td>\n",
              "      <td>No</td>\n",
              "      <td>One year</td>\n",
              "      <td>No</td>\n",
              "      <td>Bank transfer (automatic)</td>\n",
              "      <td>42.30</td>\n",
              "      <td>1840.75</td>\n",
              "      <td>No</td>\n",
              "    </tr>\n",
              "    <tr>\n",
              "      <th>6</th>\n",
              "      <td>Male</td>\n",
              "      <td>0</td>\n",
              "      <td>No</td>\n",
              "      <td>Yes</td>\n",
              "      <td>22</td>\n",
              "      <td>Yes</td>\n",
              "      <td>Yes</td>\n",
              "      <td>Fiber optic</td>\n",
              "      <td>No</td>\n",
              "      <td>Yes</td>\n",
              "      <td>No</td>\n",
              "      <td>No</td>\n",
              "      <td>Yes</td>\n",
              "      <td>No</td>\n",
              "      <td>Month-to-month</td>\n",
              "      <td>Yes</td>\n",
              "      <td>Credit card (automatic)</td>\n",
              "      <td>89.10</td>\n",
              "      <td>1949.40</td>\n",
              "      <td>No</td>\n",
              "    </tr>\n",
              "    <tr>\n",
              "      <th>7</th>\n",
              "      <td>Female</td>\n",
              "      <td>0</td>\n",
              "      <td>No</td>\n",
              "      <td>No</td>\n",
              "      <td>10</td>\n",
              "      <td>No</td>\n",
              "      <td>No phone service</td>\n",
              "      <td>DSL</td>\n",
              "      <td>Yes</td>\n",
              "      <td>No</td>\n",
              "      <td>No</td>\n",
              "      <td>No</td>\n",
              "      <td>No</td>\n",
              "      <td>No</td>\n",
              "      <td>Month-to-month</td>\n",
              "      <td>No</td>\n",
              "      <td>Mailed check</td>\n",
              "      <td>29.75</td>\n",
              "      <td>301.90</td>\n",
              "      <td>No</td>\n",
              "    </tr>\n",
              "    <tr>\n",
              "      <th>...</th>\n",
              "      <td>...</td>\n",
              "      <td>...</td>\n",
              "      <td>...</td>\n",
              "      <td>...</td>\n",
              "      <td>...</td>\n",
              "      <td>...</td>\n",
              "      <td>...</td>\n",
              "      <td>...</td>\n",
              "      <td>...</td>\n",
              "      <td>...</td>\n",
              "      <td>...</td>\n",
              "      <td>...</td>\n",
              "      <td>...</td>\n",
              "      <td>...</td>\n",
              "      <td>...</td>\n",
              "      <td>...</td>\n",
              "      <td>...</td>\n",
              "      <td>...</td>\n",
              "      <td>...</td>\n",
              "      <td>...</td>\n",
              "    </tr>\n",
              "    <tr>\n",
              "      <th>7037</th>\n",
              "      <td>Female</td>\n",
              "      <td>0</td>\n",
              "      <td>No</td>\n",
              "      <td>No</td>\n",
              "      <td>72</td>\n",
              "      <td>Yes</td>\n",
              "      <td>No</td>\n",
              "      <td>No</td>\n",
              "      <td>No internet service</td>\n",
              "      <td>No internet service</td>\n",
              "      <td>No internet service</td>\n",
              "      <td>No internet service</td>\n",
              "      <td>No internet service</td>\n",
              "      <td>No internet service</td>\n",
              "      <td>Two year</td>\n",
              "      <td>Yes</td>\n",
              "      <td>Bank transfer (automatic)</td>\n",
              "      <td>21.15</td>\n",
              "      <td>1419.40</td>\n",
              "      <td>No</td>\n",
              "    </tr>\n",
              "    <tr>\n",
              "      <th>7038</th>\n",
              "      <td>Male</td>\n",
              "      <td>0</td>\n",
              "      <td>Yes</td>\n",
              "      <td>Yes</td>\n",
              "      <td>24</td>\n",
              "      <td>Yes</td>\n",
              "      <td>Yes</td>\n",
              "      <td>DSL</td>\n",
              "      <td>Yes</td>\n",
              "      <td>No</td>\n",
              "      <td>Yes</td>\n",
              "      <td>Yes</td>\n",
              "      <td>Yes</td>\n",
              "      <td>Yes</td>\n",
              "      <td>One year</td>\n",
              "      <td>Yes</td>\n",
              "      <td>Mailed check</td>\n",
              "      <td>84.80</td>\n",
              "      <td>1990.50</td>\n",
              "      <td>No</td>\n",
              "    </tr>\n",
              "    <tr>\n",
              "      <th>7039</th>\n",
              "      <td>Female</td>\n",
              "      <td>0</td>\n",
              "      <td>Yes</td>\n",
              "      <td>Yes</td>\n",
              "      <td>72</td>\n",
              "      <td>Yes</td>\n",
              "      <td>Yes</td>\n",
              "      <td>Fiber optic</td>\n",
              "      <td>No</td>\n",
              "      <td>Yes</td>\n",
              "      <td>Yes</td>\n",
              "      <td>No</td>\n",
              "      <td>Yes</td>\n",
              "      <td>Yes</td>\n",
              "      <td>One year</td>\n",
              "      <td>Yes</td>\n",
              "      <td>Credit card (automatic)</td>\n",
              "      <td>103.20</td>\n",
              "      <td>7362.90</td>\n",
              "      <td>No</td>\n",
              "    </tr>\n",
              "    <tr>\n",
              "      <th>7040</th>\n",
              "      <td>Female</td>\n",
              "      <td>0</td>\n",
              "      <td>Yes</td>\n",
              "      <td>Yes</td>\n",
              "      <td>11</td>\n",
              "      <td>No</td>\n",
              "      <td>No phone service</td>\n",
              "      <td>DSL</td>\n",
              "      <td>Yes</td>\n",
              "      <td>No</td>\n",
              "      <td>No</td>\n",
              "      <td>No</td>\n",
              "      <td>No</td>\n",
              "      <td>No</td>\n",
              "      <td>Month-to-month</td>\n",
              "      <td>Yes</td>\n",
              "      <td>Electronic check</td>\n",
              "      <td>29.60</td>\n",
              "      <td>346.45</td>\n",
              "      <td>No</td>\n",
              "    </tr>\n",
              "    <tr>\n",
              "      <th>7042</th>\n",
              "      <td>Male</td>\n",
              "      <td>0</td>\n",
              "      <td>No</td>\n",
              "      <td>No</td>\n",
              "      <td>66</td>\n",
              "      <td>Yes</td>\n",
              "      <td>No</td>\n",
              "      <td>Fiber optic</td>\n",
              "      <td>Yes</td>\n",
              "      <td>No</td>\n",
              "      <td>Yes</td>\n",
              "      <td>Yes</td>\n",
              "      <td>Yes</td>\n",
              "      <td>Yes</td>\n",
              "      <td>Two year</td>\n",
              "      <td>Yes</td>\n",
              "      <td>Bank transfer (automatic)</td>\n",
              "      <td>105.65</td>\n",
              "      <td>6844.50</td>\n",
              "      <td>No</td>\n",
              "    </tr>\n",
              "  </tbody>\n",
              "</table>\n",
              "<p>5163 rows × 20 columns</p>\n",
              "</div>\n",
              "      <button class=\"colab-df-convert\" onclick=\"convertToInteractive('df-d143b399-e7b1-4e99-8c53-44281386100e')\"\n",
              "              title=\"Convert this dataframe to an interactive table.\"\n",
              "              style=\"display:none;\">\n",
              "        \n",
              "  <svg xmlns=\"http://www.w3.org/2000/svg\" height=\"24px\"viewBox=\"0 0 24 24\"\n",
              "       width=\"24px\">\n",
              "    <path d=\"M0 0h24v24H0V0z\" fill=\"none\"/>\n",
              "    <path d=\"M18.56 5.44l.94 2.06.94-2.06 2.06-.94-2.06-.94-.94-2.06-.94 2.06-2.06.94zm-11 1L8.5 8.5l.94-2.06 2.06-.94-2.06-.94L8.5 2.5l-.94 2.06-2.06.94zm10 10l.94 2.06.94-2.06 2.06-.94-2.06-.94-.94-2.06-.94 2.06-2.06.94z\"/><path d=\"M17.41 7.96l-1.37-1.37c-.4-.4-.92-.59-1.43-.59-.52 0-1.04.2-1.43.59L10.3 9.45l-7.72 7.72c-.78.78-.78 2.05 0 2.83L4 21.41c.39.39.9.59 1.41.59.51 0 1.02-.2 1.41-.59l7.78-7.78 2.81-2.81c.8-.78.8-2.07 0-2.86zM5.41 20L4 18.59l7.72-7.72 1.47 1.35L5.41 20z\"/>\n",
              "  </svg>\n",
              "      </button>\n",
              "      \n",
              "  <style>\n",
              "    .colab-df-container {\n",
              "      display:flex;\n",
              "      flex-wrap:wrap;\n",
              "      gap: 12px;\n",
              "    }\n",
              "\n",
              "    .colab-df-convert {\n",
              "      background-color: #E8F0FE;\n",
              "      border: none;\n",
              "      border-radius: 50%;\n",
              "      cursor: pointer;\n",
              "      display: none;\n",
              "      fill: #1967D2;\n",
              "      height: 32px;\n",
              "      padding: 0 0 0 0;\n",
              "      width: 32px;\n",
              "    }\n",
              "\n",
              "    .colab-df-convert:hover {\n",
              "      background-color: #E2EBFA;\n",
              "      box-shadow: 0px 1px 2px rgba(60, 64, 67, 0.3), 0px 1px 3px 1px rgba(60, 64, 67, 0.15);\n",
              "      fill: #174EA6;\n",
              "    }\n",
              "\n",
              "    [theme=dark] .colab-df-convert {\n",
              "      background-color: #3B4455;\n",
              "      fill: #D2E3FC;\n",
              "    }\n",
              "\n",
              "    [theme=dark] .colab-df-convert:hover {\n",
              "      background-color: #434B5C;\n",
              "      box-shadow: 0px 1px 3px 1px rgba(0, 0, 0, 0.15);\n",
              "      filter: drop-shadow(0px 1px 2px rgba(0, 0, 0, 0.3));\n",
              "      fill: #FFFFFF;\n",
              "    }\n",
              "  </style>\n",
              "\n",
              "      <script>\n",
              "        const buttonEl =\n",
              "          document.querySelector('#df-d143b399-e7b1-4e99-8c53-44281386100e button.colab-df-convert');\n",
              "        buttonEl.style.display =\n",
              "          google.colab.kernel.accessAllowed ? 'block' : 'none';\n",
              "\n",
              "        async function convertToInteractive(key) {\n",
              "          const element = document.querySelector('#df-d143b399-e7b1-4e99-8c53-44281386100e');\n",
              "          const dataTable =\n",
              "            await google.colab.kernel.invokeFunction('convertToInteractive',\n",
              "                                                     [key], {});\n",
              "          if (!dataTable) return;\n",
              "\n",
              "          const docLinkHtml = 'Like what you see? Visit the ' +\n",
              "            '<a target=\"_blank\" href=https://colab.research.google.com/notebooks/data_table.ipynb>data table notebook</a>'\n",
              "            + ' to learn more about interactive tables.';\n",
              "          element.innerHTML = '';\n",
              "          dataTable['output_type'] = 'display_data';\n",
              "          await google.colab.output.renderOutput(dataTable, element);\n",
              "          const docLink = document.createElement('div');\n",
              "          docLink.innerHTML = docLinkHtml;\n",
              "          element.appendChild(docLink);\n",
              "        }\n",
              "      </script>\n",
              "    </div>\n",
              "  </div>\n",
              "  "
            ]
          },
          "metadata": {},
          "execution_count": 15
        }
      ]
    },
    {
      "cell_type": "markdown",
      "source": [
        "Data Visualization"
      ],
      "metadata": {
        "id": "npfbgztH4XIV"
      }
    },
    {
      "cell_type": "markdown",
      "source": [
        "For Tenure"
      ],
      "metadata": {
        "id": "lB1-P3s35ltD"
      }
    },
    {
      "cell_type": "code",
      "source": [
        "# Visulaizing With respect to parameter Tenure.\n",
        "\n",
        "tenure_churn_no = df1[df1.Churn=='No'].tenure\n",
        "tenure_churn_yes = df1[df1.Churn=='Yes'].tenure\n",
        "\n",
        "# labelling the graph\n",
        "plt.xlabel(\"tenure\")\n",
        "plt.ylabel(\"Number Of Customers\")\n",
        "plt.title(\"Customer Churn Prediction Visualiztion\")\n",
        "\n",
        "blood_sugar_men = [113, 85, 90, 150, 149, 88, 93, 115, 135, 80, 77, 82, 129]\n",
        "blood_sugar_women = [67, 98, 89, 120, 133, 150, 84, 69, 89, 79, 120, 112, 100]\n",
        "\n",
        "plt.hist([tenure_churn_yes, tenure_churn_no], rwidth=0.95, color=['green','red'],label=['Churn=Yes','Churn=No'])\n",
        "plt.legend() # used for labelling"
      ],
      "metadata": {
        "colab": {
          "base_uri": "https://localhost:8080/",
          "height": 490
        },
        "id": "-OXSN0x34UFe",
        "outputId": "5ff4f7be-39c2-4142-ceea-4d4194b44cfb"
      },
      "execution_count": 16,
      "outputs": [
        {
          "output_type": "execute_result",
          "data": {
            "text/plain": [
              "<matplotlib.legend.Legend at 0x7fb123c3b220>"
            ]
          },
          "metadata": {},
          "execution_count": 16
        },
        {
          "output_type": "display_data",
          "data": {
            "text/plain": [
              "<Figure size 640x480 with 1 Axes>"
            ],
            "image/png": "[encoded data removed]"
          },
          "metadata": {}
        }
      ]
    },
    {
      "cell_type": "markdown",
      "source": [
        "For Monthly Charges"
      ],
      "metadata": {
        "id": "bans-nuz5oZW"
      }
    },
    {
      "cell_type": "code",
      "source": [
        "# visualizing data wrt to Monthly charges\n",
        "mc_churn_no = df1[df1.Churn=='No'].MonthlyCharges      \n",
        "mc_churn_yes = df1[df1.Churn=='Yes'].MonthlyCharges      \n",
        "\n",
        "plt.xlabel(\"Monthly Charges\")\n",
        "plt.ylabel(\"Number Of Customers\")\n",
        "plt.title(\"Customer Churn Prediction Visualiztion\")\n",
        "\n",
        "blood_sugar_men = [113, 85, 90, 150, 149, 88, 93, 115, 135, 80, 77, 82, 129]\n",
        "blood_sugar_women = [67, 98, 89, 120, 133, 150, 84, 69, 89, 79, 120, 112, 100]\n",
        "\n",
        "plt.hist([mc_churn_yes, mc_churn_no], rwidth=0.95, color=['green','red'],label=['Churn=Yes','Churn=No'])\n",
        "plt.legend()"
      ],
      "metadata": {
        "colab": {
          "base_uri": "https://localhost:8080/",
          "height": 490
        },
        "id": "3jXx66wv5qS1",
        "outputId": "ca64633b-1be3-4ee4-d90a-dc3fb7b6a934"
      },
      "execution_count": 17,
      "outputs": [
        {
          "output_type": "execute_result",
          "data": {
            "text/plain": [
              "<matplotlib.legend.Legend at 0x7fb1212b3bb0>"
            ]
          },
          "metadata": {},
          "execution_count": 17
        },
        {
          "output_type": "display_data",
          "data": {
            "text/plain": [
              "<Figure size 640x480 with 1 Axes>"
            ],
            "image/png": "[encoded data removed]"
          },
          "metadata": {}
        }
      ]
    },
    {
      "cell_type": "markdown",
      "source": [
        "Many of the columns are yes, no etc. we will print unique values in each columns to see data values"
      ],
      "metadata": {
        "id": "okFXeioM5w10"
      }
    },
    {
      "cell_type": "code",
      "source": [
        "# Function Defination\n",
        "def print_unique_col_values(df):\n",
        "       for column in df:\n",
        "            if df[column].dtypes=='object':\n",
        "                print(f'{column}: {df[column].unique()}') \n",
        "\n",
        "# FUnction Calling\n",
        "print_unique_col_values(df1)"
      ],
      "metadata": {
        "colab": {
          "base_uri": "https://localhost:8080/",
          "height": 0
        },
        "id": "lq8pfIkz6C0x",
        "outputId": "553040c0-db92-454f-8cc4-6fdc79a0cd4c"
      },
      "execution_count": 18,
      "outputs": [
        {
          "output_type": "stream",
          "name": "stdout",
          "text": [
            "gender: ['Female' 'Male']\n",
            "Partner: ['Yes' 'No']\n",
            "Dependents: ['No' 'Yes']\n",
            "PhoneService: ['No' 'Yes']\n",
            "MultipleLines: ['No phone service' 'No' 'Yes']\n",
            "InternetService: ['DSL' 'Fiber optic' 'No']\n",
            "OnlineSecurity: ['No' 'Yes' 'No internet service']\n",
            "OnlineBackup: ['Yes' 'No' 'No internet service']\n",
            "DeviceProtection: ['No' 'Yes' 'No internet service']\n",
            "TechSupport: ['No' 'Yes' 'No internet service']\n",
            "StreamingTV: ['No' 'Yes' 'No internet service']\n",
            "StreamingMovies: ['No' 'Yes' 'No internet service']\n",
            "Contract: ['Month-to-month' 'One year' 'Two year']\n",
            "PaperlessBilling: ['Yes' 'No']\n",
            "PaymentMethod: ['Electronic check' 'Mailed check' 'Bank transfer (automatic)'\n",
            " 'Credit card (automatic)']\n",
            "Churn: ['No' 'Yes']\n"
          ]
        }
      ]
    },
    {
      "cell_type": "markdown",
      "source": [
        "Now we are replacing values which denote same meaning eg: in OnlineSecurity No internet service & No has same meaning"
      ],
      "metadata": {
        "id": "Tvq4Lt936hAi"
      }
    },
    {
      "cell_type": "code",
      "source": [
        "# here actually we are cleaning the data\n",
        "\n",
        "df1.replace('No internet service','No',inplace=True) # inplace will modify exactly the same df\n",
        "df1.replace('No phone service','No',inplace=True)"
      ],
      "metadata": {
        "colab": {
          "base_uri": "https://localhost:8080/",
          "height": 0
        },
        "id": "ujVLYP-q6Ie6",
        "outputId": "0940b1d7-eff8-4183-8aea-af529b3a85d4"
      },
      "execution_count": 19,
      "outputs": [
        {
          "output_type": "stream",
          "name": "stderr",
          "text": [
            "<ipython-input-19-a7ae1b7ea9a9>:1: SettingWithCopyWarning: \n",
            "A value is trying to be set on a copy of a slice from a DataFrame\n",
            "\n",
            "See the caveats in the documentation: https://pandas.pydata.org/pandas-docs/stable/user_guide/indexing.html#returning-a-view-versus-a-copy\n",
            "  df1.replace('No internet service','No',inplace=True) # inplace will modify exactly the same df\n",
            "<ipython-input-19-a7ae1b7ea9a9>:2: SettingWithCopyWarning: \n",
            "A value is trying to be set on a copy of a slice from a DataFrame\n",
            "\n",
            "See the caveats in the documentation: https://pandas.pydata.org/pandas-docs/stable/user_guide/indexing.html#returning-a-view-versus-a-copy\n",
            "  df1.replace('No phone service','No',inplace=True)\n"
          ]
        }
      ]
    },
    {
      "cell_type": "code",
      "source": [
        "# AGain calling the function\n",
        "print_unique_col_values(df1)"
      ],
      "metadata": {
        "colab": {
          "base_uri": "https://localhost:8080/",
          "height": 0
        },
        "id": "2f2wq92b7IMs",
        "outputId": "78525731-6ed7-44e8-aa0f-2e85de5ec33d"
      },
      "execution_count": 20,
      "outputs": [
        {
          "output_type": "stream",
          "name": "stdout",
          "text": [
            "gender: ['Female' 'Male']\n",
            "Partner: ['Yes' 'No']\n",
            "Dependents: ['No' 'Yes']\n",
            "PhoneService: ['No' 'Yes']\n",
            "MultipleLines: ['No' 'Yes']\n",
            "InternetService: ['DSL' 'Fiber optic' 'No']\n",
            "OnlineSecurity: ['No' 'Yes']\n",
            "OnlineBackup: ['Yes' 'No']\n",
            "DeviceProtection: ['No' 'Yes']\n",
            "TechSupport: ['No' 'Yes']\n",
            "StreamingTV: ['No' 'Yes']\n",
            "StreamingMovies: ['No' 'Yes']\n",
            "Contract: ['Month-to-month' 'One year' 'Two year']\n",
            "PaperlessBilling: ['Yes' 'No']\n",
            "PaymentMethod: ['Electronic check' 'Mailed check' 'Bank transfer (automatic)'\n",
            " 'Credit card (automatic)']\n",
            "Churn: ['No' 'Yes']\n"
          ]
        }
      ]
    },
    {
      "cell_type": "markdown",
      "source": [
        "Performing One-Hot-Encoding to convert yes and no to 1 & 0\n",
        "One hot Encoding : it is a process to map textutal values to numerical value sunderstandable by the machine"
      ],
      "metadata": {
        "id": "pefbSejB7Qu4"
      }
    },
    {
      "cell_type": "code",
      "source": [
        "yes_no_columns = ['Partner','Dependents','PhoneService','MultipleLines','OnlineSecurity','OnlineBackup',\n",
        "                  'DeviceProtection','TechSupport','StreamingTV','StreamingMovies','PaperlessBilling','Churn'] #creating list of all yes no columns\n",
        "for col in yes_no_columns:\n",
        "    df1[col].replace({'Yes': 1,'No': 0},inplace=True)"
      ],
      "metadata": {
        "colab": {
          "base_uri": "https://localhost:8080/",
          "height": 0
        },
        "id": "_k7S305D7XHP",
        "outputId": "f9f6cfbb-525f-4527-f60c-13b65c820528"
      },
      "execution_count": 21,
      "outputs": [
        {
          "output_type": "stream",
          "name": "stderr",
          "text": [
            "<ipython-input-21-37740195fb59>:4: SettingWithCopyWarning: \n",
            "A value is trying to be set on a copy of a slice from a DataFrame\n",
            "\n",
            "See the caveats in the documentation: https://pandas.pydata.org/pandas-docs/stable/user_guide/indexing.html#returning-a-view-versus-a-copy\n",
            "  df1[col].replace({'Yes': 1,'No': 0},inplace=True)\n"
          ]
        }
      ]
    },
    {
      "cell_type": "markdown",
      "source": [
        "Printing the Values "
      ],
      "metadata": {
        "id": "0FdgAsvD7lZz"
      }
    },
    {
      "cell_type": "code",
      "source": [
        "for col in df1:\n",
        "    print(f'{col}: {df1[col].unique()}') "
      ],
      "metadata": {
        "colab": {
          "base_uri": "https://localhost:8080/",
          "height": 0
        },
        "id": "OQzq4e6R7nBZ",
        "outputId": "5b2dcda0-5e74-4f73-9b39-fdf58fb8d6dd"
      },
      "execution_count": 22,
      "outputs": [
        {
          "output_type": "stream",
          "name": "stdout",
          "text": [
            "gender: ['Female' 'Male']\n",
            "SeniorCitizen: [0 1]\n",
            "Partner: [1 0]\n",
            "Dependents: [0 1]\n",
            "tenure: [ 1 34  2 45  8 22 10 28 62 13 16 58 49 25 69 52 71 21 12 30 47 72 17 27\n",
            "  5 46 11 70 63 43 15 60 18 66  9  3 31 50 64 56  7 42 35 48 29 65 38 68\n",
            " 32 55 37 36 41  6  4 33 67 23 57 61 14 20 53 40 59 24 44 19 54 51 26 39]\n",
            "PhoneService: [0 1]\n",
            "MultipleLines: [0 1]\n",
            "InternetService: ['DSL' 'Fiber optic' 'No']\n",
            "OnlineSecurity: [0 1]\n",
            "OnlineBackup: [1 0]\n",
            "DeviceProtection: [0 1]\n",
            "TechSupport: [0 1]\n",
            "StreamingTV: [0 1]\n",
            "StreamingMovies: [0 1]\n",
            "Contract: ['Month-to-month' 'One year' 'Two year']\n",
            "PaperlessBilling: [1 0]\n",
            "PaymentMethod: ['Electronic check' 'Mailed check' 'Bank transfer (automatic)'\n",
            " 'Credit card (automatic)']\n",
            "MonthlyCharges: [29.85 56.95 53.85 ... 63.1  44.2  78.7 ]\n",
            "TotalCharges: [  29.85 1889.5   108.15 ...  346.45  306.6  6844.5 ]\n",
            "Churn: [0 1]\n"
          ]
        }
      ]
    },
    {
      "cell_type": "code",
      "source": [
        "# Performing One hot encoding for Gender also\n",
        "df1['gender'].replace({'Female':1,'Male':0},inplace=True)\n",
        "df1.gender.unique()"
      ],
      "metadata": {
        "colab": {
          "base_uri": "https://localhost:8080/",
          "height": 0
        },
        "id": "HKozmKgk7tnh",
        "outputId": "02bee3b1-85a7-4678-832a-d86bf1c0bfe9"
      },
      "execution_count": 24,
      "outputs": [
        {
          "output_type": "stream",
          "name": "stderr",
          "text": [
            "<ipython-input-24-91852552ee12>:2: SettingWithCopyWarning: \n",
            "A value is trying to be set on a copy of a slice from a DataFrame\n",
            "\n",
            "See the caveats in the documentation: https://pandas.pydata.org/pandas-docs/stable/user_guide/indexing.html#returning-a-view-versus-a-copy\n",
            "  df1['gender'].replace({'Female':1,'Male':0},inplace=True)\n"
          ]
        },
        {
          "output_type": "execute_result",
          "data": {
            "text/plain": [
              "array([1, 0])"
            ]
          },
          "metadata": {},
          "execution_count": 24
        }
      ]
    },
    {
      "cell_type": "markdown",
      "source": [
        "One Hot Encoding FOr Cateforical Columns"
      ],
      "metadata": {
        "id": "9yp1uGZS8HpM"
      }
    },
    {
      "cell_type": "code",
      "source": [
        "df2 = pd.get_dummies(data=df1, columns=['InternetService','Contract','PaymentMethod']) # passing colums to which we want to apply one hot encoding\n",
        "# storing the encoded data frame in df2\n",
        "df2.columns"
      ],
      "metadata": {
        "colab": {
          "base_uri": "https://localhost:8080/",
          "height": 0
        },
        "id": "Gc1l7sUj8K-e",
        "outputId": "a86dd8e4-8e21-4007-e26f-7a7063d6d355"
      },
      "execution_count": 25,
      "outputs": [
        {
          "output_type": "execute_result",
          "data": {
            "text/plain": [
              "Index(['gender', 'SeniorCitizen', 'Partner', 'Dependents', 'tenure',\n",
              "       'PhoneService', 'MultipleLines', 'OnlineSecurity', 'OnlineBackup',\n",
              "       'DeviceProtection', 'TechSupport', 'StreamingTV', 'StreamingMovies',\n",
              "       'PaperlessBilling', 'MonthlyCharges', 'TotalCharges', 'Churn',\n",
              "       'InternetService_DSL', 'InternetService_Fiber optic',\n",
              "       'InternetService_No', 'Contract_Month-to-month', 'Contract_One year',\n",
              "       'Contract_Two year', 'PaymentMethod_Bank transfer (automatic)',\n",
              "       'PaymentMethod_Credit card (automatic)',\n",
              "       'PaymentMethod_Electronic check', 'PaymentMethod_Mailed check'],\n",
              "      dtype='object')"
            ]
          },
          "metadata": {},
          "execution_count": 25
        }
      ]
    },
    {
      "cell_type": "code",
      "source": [
        "df2.sample(5)"
      ],
      "metadata": {
        "colab": {
          "base_uri": "https://localhost:8080/",
          "height": 334
        },
        "id": "FA9jFE_179yy",
        "outputId": "33926578-b3ab-4228-a654-391f53eb3a0a"
      },
      "execution_count": 26,
      "outputs": [
        {
          "output_type": "execute_result",
          "data": {
            "text/plain": [
              "      gender  SeniorCitizen  Partner  Dependents  tenure  PhoneService  \\\n",
              "4118       1              0        0           0      40             1   \n",
              "1695       0              0        1           1      54             1   \n",
              "4365       0              0        1           0      63             1   \n",
              "3489       1              0        1           0      26             1   \n",
              "2880       0              0        0           0      12             1   \n",
              "\n",
              "      MultipleLines  OnlineSecurity  OnlineBackup  DeviceProtection  ...  \\\n",
              "4118              0               0             1                 0  ...   \n",
              "1695              1               0             1                 0  ...   \n",
              "4365              1               0             0                 1  ...   \n",
              "3489              1               1             1                 1  ...   \n",
              "2880              0               0             0                 0  ...   \n",
              "\n",
              "      InternetService_DSL  InternetService_Fiber optic  InternetService_No  \\\n",
              "4118                    0                            1                   0   \n",
              "1695                    1                            0                   0   \n",
              "4365                    1                            0                   0   \n",
              "3489                    1                            0                   0   \n",
              "2880                    0                            1                   0   \n",
              "\n",
              "      Contract_Month-to-month  Contract_One year  Contract_Two year  \\\n",
              "4118                        1                  0                  0   \n",
              "1695                        0                  1                  0   \n",
              "4365                        0                  0                  1   \n",
              "3489                        0                  1                  0   \n",
              "2880                        1                  0                  0   \n",
              "\n",
              "      PaymentMethod_Bank transfer (automatic)  \\\n",
              "4118                                        0   \n",
              "1695                                        0   \n",
              "4365                                        0   \n",
              "3489                                        0   \n",
              "2880                                        1   \n",
              "\n",
              "      PaymentMethod_Credit card (automatic)  PaymentMethod_Electronic check  \\\n",
              "4118                                      1                               0   \n",
              "1695                                      0                               1   \n",
              "4365                                      1                               0   \n",
              "3489                                      1                               0   \n",
              "2880                                      0                               0   \n",
              "\n",
              "      PaymentMethod_Mailed check  \n",
              "4118                           0  \n",
              "1695                           0  \n",
              "4365                           0  \n",
              "3489                           0  \n",
              "2880                           0  \n",
              "\n",
              "[5 rows x 27 columns]"
            ],
            "text/html": [
              "\n",
              "  <div id=\"df-dbfb187e-7d0a-4793-a8f7-c1969e30b225\">\n",
              "    <div class=\"colab-df-container\">\n",
              "      <div>\n",
              "<style scoped>\n",
              "    .dataframe tbody tr th:only-of-type {\n",
              "        vertical-align: middle;\n",
              "    }\n",
              "\n",
              "    .dataframe tbody tr th {\n",
              "        vertical-align: top;\n",
              "    }\n",
              "\n",
              "    .dataframe thead th {\n",
              "        text-align: right;\n",
              "    }\n",
              "</style>\n",
              "<table border=\"1\" class=\"dataframe\">\n",
              "  <thead>\n",
              "    <tr style=\"text-align: right;\">\n",
              "      <th></th>\n",
              "      <th>gender</th>\n",
              "      <th>SeniorCitizen</th>\n",
              "      <th>Partner</th>\n",
              "      <th>Dependents</th>\n",
              "      <th>tenure</th>\n",
              "      <th>PhoneService</th>\n",
              "      <th>MultipleLines</th>\n",
              "      <th>OnlineSecurity</th>\n",
              "      <th>OnlineBackup</th>\n",
              "      <th>DeviceProtection</th>\n",
              "      <th>...</th>\n",
              "      <th>InternetService_DSL</th>\n",
              "      <th>InternetService_Fiber optic</th>\n",
              "      <th>InternetService_No</th>\n",
              "      <th>Contract_Month-to-month</th>\n",
              "      <th>Contract_One year</th>\n",
              "      <th>Contract_Two year</th>\n",
              "      <th>PaymentMethod_Bank transfer (automatic)</th>\n",
              "      <th>PaymentMethod_Credit card (automatic)</th>\n",
              "      <th>PaymentMethod_Electronic check</th>\n",
              "      <th>PaymentMethod_Mailed check</th>\n",
              "    </tr>\n",
              "  </thead>\n",
              "  <tbody>\n",
              "    <tr>\n",
              "      <th>4118</th>\n",
              "      <td>1</td>\n",
              "      <td>0</td>\n",
              "      <td>0</td>\n",
              "      <td>0</td>\n",
              "      <td>40</td>\n",
              "      <td>1</td>\n",
              "      <td>0</td>\n",
              "      <td>0</td>\n",
              "      <td>1</td>\n",
              "      <td>0</td>\n",
              "      <td>...</td>\n",
              "      <td>0</td>\n",
              "      <td>1</td>\n",
              "      <td>0</td>\n",
              "      <td>1</td>\n",
              "      <td>0</td>\n",
              "      <td>0</td>\n",
              "      <td>0</td>\n",
              "      <td>1</td>\n",
              "      <td>0</td>\n",
              "      <td>0</td>\n",
              "    </tr>\n",
              "    <tr>\n",
              "      <th>1695</th>\n",
              "      <td>0</td>\n",
              "      <td>0</td>\n",
              "      <td>1</td>\n",
              "      <td>1</td>\n",
              "      <td>54</td>\n",
              "      <td>1</td>\n",
              "      <td>1</td>\n",
              "      <td>0</td>\n",
              "      <td>1</td>\n",
              "      <td>0</td>\n",
              "      <td>...</td>\n",
              "      <td>1</td>\n",
              "      <td>0</td>\n",
              "      <td>0</td>\n",
              "      <td>0</td>\n",
              "      <td>1</td>\n",
              "      <td>0</td>\n",
              "      <td>0</td>\n",
              "      <td>0</td>\n",
              "      <td>1</td>\n",
              "      <td>0</td>\n",
              "    </tr>\n",
              "    <tr>\n",
              "      <th>4365</th>\n",
              "      <td>0</td>\n",
              "      <td>0</td>\n",
              "      <td>1</td>\n",
              "      <td>0</td>\n",
              "      <td>63</td>\n",
              "      <td>1</td>\n",
              "      <td>1</td>\n",
              "      <td>0</td>\n",
              "      <td>0</td>\n",
              "      <td>1</td>\n",
              "      <td>...</td>\n",
              "      <td>1</td>\n",
              "      <td>0</td>\n",
              "      <td>0</td>\n",
              "      <td>0</td>\n",
              "      <td>0</td>\n",
              "      <td>1</td>\n",
              "      <td>0</td>\n",
              "      <td>1</td>\n",
              "      <td>0</td>\n",
              "      <td>0</td>\n",
              "    </tr>\n",
              "    <tr>\n",
              "      <th>3489</th>\n",
              "      <td>1</td>\n",
              "      <td>0</td>\n",
              "      <td>1</td>\n",
              "      <td>0</td>\n",
              "      <td>26</td>\n",
              "      <td>1</td>\n",
              "      <td>1</td>\n",
              "      <td>1</td>\n",
              "      <td>1</td>\n",
              "      <td>1</td>\n",
              "      <td>...</td>\n",
              "      <td>1</td>\n",
              "      <td>0</td>\n",
              "      <td>0</td>\n",
              "      <td>0</td>\n",
              "      <td>1</td>\n",
              "      <td>0</td>\n",
              "      <td>0</td>\n",
              "      <td>1</td>\n",
              "      <td>0</td>\n",
              "      <td>0</td>\n",
              "    </tr>\n",
              "    <tr>\n",
              "      <th>2880</th>\n",
              "      <td>0</td>\n",
              "      <td>0</td>\n",
              "      <td>0</td>\n",
              "      <td>0</td>\n",
              "      <td>12</td>\n",
              "      <td>1</td>\n",
              "      <td>0</td>\n",
              "      <td>0</td>\n",
              "      <td>0</td>\n",
              "      <td>0</td>\n",
              "      <td>...</td>\n",
              "      <td>0</td>\n",
              "      <td>1</td>\n",
              "      <td>0</td>\n",
              "      <td>1</td>\n",
              "      <td>0</td>\n",
              "      <td>0</td>\n",
              "      <td>1</td>\n",
              "      <td>0</td>\n",
              "      <td>0</td>\n",
              "      <td>0</td>\n",
              "    </tr>\n",
              "  </tbody>\n",
              "</table>\n",
              "<p>5 rows × 27 columns</p>\n",
              "</div>\n",
              "      <button class=\"colab-df-convert\" onclick=\"convertToInteractive('df-dbfb187e-7d0a-4793-a8f7-c1969e30b225')\"\n",
              "              title=\"Convert this dataframe to an interactive table.\"\n",
              "              style=\"display:none;\">\n",
              "        \n",
              "  <svg xmlns=\"http://www.w3.org/2000/svg\" height=\"24px\"viewBox=\"0 0 24 24\"\n",
              "       width=\"24px\">\n",
              "    <path d=\"M0 0h24v24H0V0z\" fill=\"none\"/>\n",
              "    <path d=\"M18.56 5.44l.94 2.06.94-2.06 2.06-.94-2.06-.94-.94-2.06-.94 2.06-2.06.94zm-11 1L8.5 8.5l.94-2.06 2.06-.94-2.06-.94L8.5 2.5l-.94 2.06-2.06.94zm10 10l.94 2.06.94-2.06 2.06-.94-2.06-.94-.94-2.06-.94 2.06-2.06.94z\"/><path d=\"M17.41 7.96l-1.37-1.37c-.4-.4-.92-.59-1.43-.59-.52 0-1.04.2-1.43.59L10.3 9.45l-7.72 7.72c-.78.78-.78 2.05 0 2.83L4 21.41c.39.39.9.59 1.41.59.51 0 1.02-.2 1.41-.59l7.78-7.78 2.81-2.81c.8-.78.8-2.07 0-2.86zM5.41 20L4 18.59l7.72-7.72 1.47 1.35L5.41 20z\"/>\n",
              "  </svg>\n",
              "      </button>\n",
              "      \n",
              "  <style>\n",
              "    .colab-df-container {\n",
              "      display:flex;\n",
              "      flex-wrap:wrap;\n",
              "      gap: 12px;\n",
              "    }\n",
              "\n",
              "    .colab-df-convert {\n",
              "      background-color: #E8F0FE;\n",
              "      border: none;\n",
              "      border-radius: 50%;\n",
              "      cursor: pointer;\n",
              "      display: none;\n",
              "      fill: #1967D2;\n",
              "      height: 32px;\n",
              "      padding: 0 0 0 0;\n",
              "      width: 32px;\n",
              "    }\n",
              "\n",
              "    .colab-df-convert:hover {\n",
              "      background-color: #E2EBFA;\n",
              "      box-shadow: 0px 1px 2px rgba(60, 64, 67, 0.3), 0px 1px 3px 1px rgba(60, 64, 67, 0.15);\n",
              "      fill: #174EA6;\n",
              "    }\n",
              "\n",
              "    [theme=dark] .colab-df-convert {\n",
              "      background-color: #3B4455;\n",
              "      fill: #D2E3FC;\n",
              "    }\n",
              "\n",
              "    [theme=dark] .colab-df-convert:hover {\n",
              "      background-color: #434B5C;\n",
              "      box-shadow: 0px 1px 3px 1px rgba(0, 0, 0, 0.15);\n",
              "      filter: drop-shadow(0px 1px 2px rgba(0, 0, 0, 0.3));\n",
              "      fill: #FFFFFF;\n",
              "    }\n",
              "  </style>\n",
              "\n",
              "      <script>\n",
              "        const buttonEl =\n",
              "          document.querySelector('#df-dbfb187e-7d0a-4793-a8f7-c1969e30b225 button.colab-df-convert');\n",
              "        buttonEl.style.display =\n",
              "          google.colab.kernel.accessAllowed ? 'block' : 'none';\n",
              "\n",
              "        async function convertToInteractive(key) {\n",
              "          const element = document.querySelector('#df-dbfb187e-7d0a-4793-a8f7-c1969e30b225');\n",
              "          const dataTable =\n",
              "            await google.colab.kernel.invokeFunction('convertToInteractive',\n",
              "                                                     [key], {});\n",
              "          if (!dataTable) return;\n",
              "\n",
              "          const docLinkHtml = 'Like what you see? Visit the ' +\n",
              "            '<a target=\"_blank\" href=https://colab.research.google.com/notebooks/data_table.ipynb>data table notebook</a>'\n",
              "            + ' to learn more about interactive tables.';\n",
              "          element.innerHTML = '';\n",
              "          dataTable['output_type'] = 'display_data';\n",
              "          await google.colab.output.renderOutput(dataTable, element);\n",
              "          const docLink = document.createElement('div');\n",
              "          docLink.innerHTML = docLinkHtml;\n",
              "          element.appendChild(docLink);\n",
              "        }\n",
              "      </script>\n",
              "    </div>\n",
              "  </div>\n",
              "  "
            ]
          },
          "metadata": {},
          "execution_count": 26
        }
      ]
    },
    {
      "cell_type": "markdown",
      "source": [
        "We create new extra columns for each one hot encoded columns that's why the number of columns increased"
      ],
      "metadata": {
        "id": "q8Vx1NzR9F6z"
      }
    },
    {
      "cell_type": "code",
      "source": [
        "df2.dtypes # Checking Data Types"
      ],
      "metadata": {
        "colab": {
          "base_uri": "https://localhost:8080/",
          "height": 0
        },
        "id": "Zhuti5Cj9PlB",
        "outputId": "8fd72b05-f0b1-4bfb-8708-9c0071f708d3"
      },
      "execution_count": 27,
      "outputs": [
        {
          "output_type": "execute_result",
          "data": {
            "text/plain": [
              "gender                                       int64\n",
              "SeniorCitizen                                int64\n",
              "Partner                                      int64\n",
              "Dependents                                   int64\n",
              "tenure                                       int64\n",
              "PhoneService                                 int64\n",
              "MultipleLines                                int64\n",
              "OnlineSecurity                               int64\n",
              "OnlineBackup                                 int64\n",
              "DeviceProtection                             int64\n",
              "TechSupport                                  int64\n",
              "StreamingTV                                  int64\n",
              "StreamingMovies                              int64\n",
              "PaperlessBilling                             int64\n",
              "MonthlyCharges                             float64\n",
              "TotalCharges                               float64\n",
              "Churn                                        int64\n",
              "InternetService_DSL                          uint8\n",
              "InternetService_Fiber optic                  uint8\n",
              "InternetService_No                           uint8\n",
              "Contract_Month-to-month                      uint8\n",
              "Contract_One year                            uint8\n",
              "Contract_Two year                            uint8\n",
              "PaymentMethod_Bank transfer (automatic)      uint8\n",
              "PaymentMethod_Credit card (automatic)        uint8\n",
              "PaymentMethod_Electronic check               uint8\n",
              "PaymentMethod_Mailed check                   uint8\n",
              "dtype: object"
            ]
          },
          "metadata": {},
          "execution_count": 27
        }
      ]
    },
    {
      "cell_type": "markdown",
      "source": [
        "All data types are of type numerical we have done the data pre processign"
      ],
      "metadata": {
        "id": "-VUT1FUH9Uot"
      }
    },
    {
      "cell_type": "markdown",
      "source": [
        "Scaling Colums whose range is very large"
      ],
      "metadata": {
        "id": "9qQXbmaM9mA0"
      }
    },
    {
      "cell_type": "code",
      "source": [
        "cols_to_scale = ['tenure','MonthlyCharges','TotalCharges'] # for the follwing columns\n",
        "\n",
        "from sklearn.preprocessing import MinMaxScaler # converts the range to a scale 0 - 1\n",
        "scaler = MinMaxScaler()\n",
        "\n",
        "df2[cols_to_scale] = scaler.fit_transform(df2[cols_to_scale])"
      ],
      "metadata": {
        "id": "PpZn3GnR9c8C"
      },
      "execution_count": 28,
      "outputs": []
    },
    {
      "cell_type": "code",
      "source": [
        "# printing unique value of all the columns\n",
        "for col in df2:\n",
        "    print(f'{col}: {df2[col].unique()}')"
      ],
      "metadata": {
        "colab": {
          "base_uri": "https://localhost:8080/",
          "height": 0
        },
        "id": "rOoJK7-W-BUj",
        "outputId": "dd53aa92-91e8-4d96-83db-38598a386cc6"
      },
      "execution_count": 29,
      "outputs": [
        {
          "output_type": "stream",
          "name": "stdout",
          "text": [
            "gender: [1 0]\n",
            "SeniorCitizen: [0 1]\n",
            "Partner: [1 0]\n",
            "Dependents: [0 1]\n",
            "tenure: [0.         0.46478873 0.01408451 0.61971831 0.09859155 0.29577465\n",
            " 0.12676056 0.38028169 0.85915493 0.16901408 0.21126761 0.8028169\n",
            " 0.67605634 0.33802817 0.95774648 0.71830986 0.98591549 0.28169014\n",
            " 0.15492958 0.4084507  0.64788732 1.         0.22535211 0.36619718\n",
            " 0.05633803 0.63380282 0.14084507 0.97183099 0.87323944 0.5915493\n",
            " 0.1971831  0.83098592 0.23943662 0.91549296 0.11267606 0.02816901\n",
            " 0.42253521 0.69014085 0.88732394 0.77464789 0.08450704 0.57746479\n",
            " 0.47887324 0.66197183 0.3943662  0.90140845 0.52112676 0.94366197\n",
            " 0.43661972 0.76056338 0.50704225 0.49295775 0.56338028 0.07042254\n",
            " 0.04225352 0.45070423 0.92957746 0.30985915 0.78873239 0.84507042\n",
            " 0.18309859 0.26760563 0.73239437 0.54929577 0.81690141 0.32394366\n",
            " 0.6056338  0.25352113 0.74647887 0.70422535 0.35211268 0.53521127]\n",
            "PhoneService: [0 1]\n",
            "MultipleLines: [0 1]\n",
            "OnlineSecurity: [0 1]\n",
            "OnlineBackup: [1 0]\n",
            "DeviceProtection: [0 1]\n",
            "TechSupport: [0 1]\n",
            "StreamingTV: [0 1]\n",
            "StreamingMovies: [0 1]\n",
            "PaperlessBilling: [1 0]\n",
            "MonthlyCharges: [0.11542289 0.38507463 0.35422886 ... 0.44626866 0.25820896 0.60149254]\n",
            "TotalCharges: [0.0012751  0.21586661 0.01031041 ... 0.03780868 0.03321025 0.78764136]\n",
            "Churn: [0 1]\n",
            "InternetService_DSL: [1 0]\n",
            "InternetService_Fiber optic: [0 1]\n",
            "InternetService_No: [0 1]\n",
            "Contract_Month-to-month: [1 0]\n",
            "Contract_One year: [0 1]\n",
            "Contract_Two year: [0 1]\n",
            "PaymentMethod_Bank transfer (automatic): [0 1]\n",
            "PaymentMethod_Credit card (automatic): [0 1]\n",
            "PaymentMethod_Electronic check: [1 0]\n",
            "PaymentMethod_Mailed check: [0 1]\n"
          ]
        }
      ]
    },
    {
      "cell_type": "markdown",
      "source": [
        "Splitting the input data to train and test"
      ],
      "metadata": {
        "id": "icvsJ_vz-XOm"
      }
    },
    {
      "cell_type": "code",
      "source": [
        "X = df2.drop('Churn',axis='columns')\n",
        "y = df2['Churn']\n",
        "\n",
        "from sklearn.model_selection import train_test_split\n",
        "\n",
        "X_train, X_test, y_train, y_test = train_test_split(X,y,test_size=0.2,random_state=5) # 80% from trainging and 20% for testing"
      ],
      "metadata": {
        "id": "-WSG9ZaT-VKW"
      },
      "execution_count": 30,
      "outputs": []
    },
    {
      "cell_type": "code",
      "source": [
        "X_train.shape # 80%"
      ],
      "metadata": {
        "colab": {
          "base_uri": "https://localhost:8080/",
          "height": 0
        },
        "id": "xhwh6RHO-p3e",
        "outputId": "2b0b4554-8ce7-425f-effc-bfa73eb23c76"
      },
      "execution_count": 31,
      "outputs": [
        {
          "output_type": "execute_result",
          "data": {
            "text/plain": [
              "(5625, 26)"
            ]
          },
          "metadata": {},
          "execution_count": 31
        }
      ]
    },
    {
      "cell_type": "code",
      "source": [
        "X_test.shape # 20%"
      ],
      "metadata": {
        "colab": {
          "base_uri": "https://localhost:8080/",
          "height": 0
        },
        "id": "FnjUQ8lv-rNl",
        "outputId": "69827529-c66a-48ae-8802-62002fdbea83"
      },
      "execution_count": 32,
      "outputs": [
        {
          "output_type": "execute_result",
          "data": {
            "text/plain": [
              "(1407, 26)"
            ]
          },
          "metadata": {},
          "execution_count": 32
        }
      ]
    },
    {
      "cell_type": "code",
      "source": [
        "len(X_train.columns)"
      ],
      "metadata": {
        "colab": {
          "base_uri": "https://localhost:8080/",
          "height": 0
        },
        "id": "EF6e0LZl-5QG",
        "outputId": "845f4f8f-46c0-4fa9-afe8-85785014ff8e"
      },
      "execution_count": 33,
      "outputs": [
        {
          "output_type": "execute_result",
          "data": {
            "text/plain": [
              "26"
            ]
          },
          "metadata": {},
          "execution_count": 33
        }
      ]
    },
    {
      "cell_type": "code",
      "source": [
        "X_train[:5]"
      ],
      "metadata": {
        "colab": {
          "base_uri": "https://localhost:8080/",
          "height": 334
        },
        "id": "4ssj8Jth-9Yv",
        "outputId": "be36c987-f015-4cac-cbd0-34ff7ccb12e3"
      },
      "execution_count": 35,
      "outputs": [
        {
          "output_type": "execute_result",
          "data": {
            "text/plain": [
              "      gender  SeniorCitizen  Partner  Dependents    tenure  PhoneService  \\\n",
              "5664       1              1        0           0  0.126761             1   \n",
              "101        1              0        1           1  0.000000             1   \n",
              "2621       0              0        1           0  0.985915             1   \n",
              "392        1              1        0           0  0.014085             1   \n",
              "1327       0              0        1           0  0.816901             1   \n",
              "\n",
              "      MultipleLines  OnlineSecurity  OnlineBackup  DeviceProtection  ...  \\\n",
              "5664              0               0             0                 1  ...   \n",
              "101               0               0             0                 0  ...   \n",
              "2621              0               0             1                 1  ...   \n",
              "392               0               0             0                 0  ...   \n",
              "1327              1               0             0                 1  ...   \n",
              "\n",
              "      InternetService_DSL  InternetService_Fiber optic  InternetService_No  \\\n",
              "5664                    0                            1                   0   \n",
              "101                     0                            0                   1   \n",
              "2621                    1                            0                   0   \n",
              "392                     1                            0                   0   \n",
              "1327                    0                            1                   0   \n",
              "\n",
              "      Contract_Month-to-month  Contract_One year  Contract_Two year  \\\n",
              "5664                        1                  0                  0   \n",
              "101                         1                  0                  0   \n",
              "2621                        0                  0                  1   \n",
              "392                         1                  0                  0   \n",
              "1327                        0                  1                  0   \n",
              "\n",
              "      PaymentMethod_Bank transfer (automatic)  \\\n",
              "5664                                        0   \n",
              "101                                         0   \n",
              "2621                                        0   \n",
              "392                                         0   \n",
              "1327                                        1   \n",
              "\n",
              "      PaymentMethod_Credit card (automatic)  PaymentMethod_Electronic check  \\\n",
              "5664                                      1                               0   \n",
              "101                                       0                               1   \n",
              "2621                                      1                               0   \n",
              "392                                       0                               1   \n",
              "1327                                      0                               0   \n",
              "\n",
              "      PaymentMethod_Mailed check  \n",
              "5664                           0  \n",
              "101                            0  \n",
              "2621                           0  \n",
              "392                            0  \n",
              "1327                           0  \n",
              "\n",
              "[5 rows x 26 columns]"
            ],
            "text/html": [
              "\n",
              "  <div id=\"df-2af3ea36-781f-4dc1-b9d4-581c9696d09d\">\n",
              "    <div class=\"colab-df-container\">\n",
              "      <div>\n",
              "<style scoped>\n",
              "    .dataframe tbody tr th:only-of-type {\n",
              "        vertical-align: middle;\n",
              "    }\n",
              "\n",
              "    .dataframe tbody tr th {\n",
              "        vertical-align: top;\n",
              "    }\n",
              "\n",
              "    .dataframe thead th {\n",
              "        text-align: right;\n",
              "    }\n",
              "</style>\n",
              "<table border=\"1\" class=\"dataframe\">\n",
              "  <thead>\n",
              "    <tr style=\"text-align: right;\">\n",
              "      <th></th>\n",
              "      <th>gender</th>\n",
              "      <th>SeniorCitizen</th>\n",
              "      <th>Partner</th>\n",
              "      <th>Dependents</th>\n",
              "      <th>tenure</th>\n",
              "      <th>PhoneService</th>\n",
              "      <th>MultipleLines</th>\n",
              "      <th>OnlineSecurity</th>\n",
              "      <th>OnlineBackup</th>\n",
              "      <th>DeviceProtection</th>\n",
              "      <th>...</th>\n",
              "      <th>InternetService_DSL</th>\n",
              "      <th>InternetService_Fiber optic</th>\n",
              "      <th>InternetService_No</th>\n",
              "      <th>Contract_Month-to-month</th>\n",
              "      <th>Contract_One year</th>\n",
              "      <th>Contract_Two year</th>\n",
              "      <th>PaymentMethod_Bank transfer (automatic)</th>\n",
              "      <th>PaymentMethod_Credit card (automatic)</th>\n",
              "      <th>PaymentMethod_Electronic check</th>\n",
              "      <th>PaymentMethod_Mailed check</th>\n",
              "    </tr>\n",
              "  </thead>\n",
              "  <tbody>\n",
              "    <tr>\n",
              "      <th>5664</th>\n",
              "      <td>1</td>\n",
              "      <td>1</td>\n",
              "      <td>0</td>\n",
              "      <td>0</td>\n",
              "      <td>0.126761</td>\n",
              "      <td>1</td>\n",
              "      <td>0</td>\n",
              "      <td>0</td>\n",
              "      <td>0</td>\n",
              "      <td>1</td>\n",
              "      <td>...</td>\n",
              "      <td>0</td>\n",
              "      <td>1</td>\n",
              "      <td>0</td>\n",
              "      <td>1</td>\n",
              "      <td>0</td>\n",
              "      <td>0</td>\n",
              "      <td>0</td>\n",
              "      <td>1</td>\n",
              "      <td>0</td>\n",
              "      <td>0</td>\n",
              "    </tr>\n",
              "    <tr>\n",
              "      <th>101</th>\n",
              "      <td>1</td>\n",
              "      <td>0</td>\n",
              "      <td>1</td>\n",
              "      <td>1</td>\n",
              "      <td>0.000000</td>\n",
              "      <td>1</td>\n",
              "      <td>0</td>\n",
              "      <td>0</td>\n",
              "      <td>0</td>\n",
              "      <td>0</td>\n",
              "      <td>...</td>\n",
              "      <td>0</td>\n",
              "      <td>0</td>\n",
              "      <td>1</td>\n",
              "      <td>1</td>\n",
              "      <td>0</td>\n",
              "      <td>0</td>\n",
              "      <td>0</td>\n",
              "      <td>0</td>\n",
              "      <td>1</td>\n",
              "      <td>0</td>\n",
              "    </tr>\n",
              "    <tr>\n",
              "      <th>2621</th>\n",
              "      <td>0</td>\n",
              "      <td>0</td>\n",
              "      <td>1</td>\n",
              "      <td>0</td>\n",
              "      <td>0.985915</td>\n",
              "      <td>1</td>\n",
              "      <td>0</td>\n",
              "      <td>0</td>\n",
              "      <td>1</td>\n",
              "      <td>1</td>\n",
              "      <td>...</td>\n",
              "      <td>1</td>\n",
              "      <td>0</td>\n",
              "      <td>0</td>\n",
              "      <td>0</td>\n",
              "      <td>0</td>\n",
              "      <td>1</td>\n",
              "      <td>0</td>\n",
              "      <td>1</td>\n",
              "      <td>0</td>\n",
              "      <td>0</td>\n",
              "    </tr>\n",
              "    <tr>\n",
              "      <th>392</th>\n",
              "      <td>1</td>\n",
              "      <td>1</td>\n",
              "      <td>0</td>\n",
              "      <td>0</td>\n",
              "      <td>0.014085</td>\n",
              "      <td>1</td>\n",
              "      <td>0</td>\n",
              "      <td>0</td>\n",
              "      <td>0</td>\n",
              "      <td>0</td>\n",
              "      <td>...</td>\n",
              "      <td>1</td>\n",
              "      <td>0</td>\n",
              "      <td>0</td>\n",
              "      <td>1</td>\n",
              "      <td>0</td>\n",
              "      <td>0</td>\n",
              "      <td>0</td>\n",
              "      <td>0</td>\n",
              "      <td>1</td>\n",
              "      <td>0</td>\n",
              "    </tr>\n",
              "    <tr>\n",
              "      <th>1327</th>\n",
              "      <td>0</td>\n",
              "      <td>0</td>\n",
              "      <td>1</td>\n",
              "      <td>0</td>\n",
              "      <td>0.816901</td>\n",
              "      <td>1</td>\n",
              "      <td>1</td>\n",
              "      <td>0</td>\n",
              "      <td>0</td>\n",
              "      <td>1</td>\n",
              "      <td>...</td>\n",
              "      <td>0</td>\n",
              "      <td>1</td>\n",
              "      <td>0</td>\n",
              "      <td>0</td>\n",
              "      <td>1</td>\n",
              "      <td>0</td>\n",
              "      <td>1</td>\n",
              "      <td>0</td>\n",
              "      <td>0</td>\n",
              "      <td>0</td>\n",
              "    </tr>\n",
              "  </tbody>\n",
              "</table>\n",
              "<p>5 rows × 26 columns</p>\n",
              "</div>\n",
              "      <button class=\"colab-df-convert\" onclick=\"convertToInteractive('df-2af3ea36-781f-4dc1-b9d4-581c9696d09d')\"\n",
              "              title=\"Convert this dataframe to an interactive table.\"\n",
              "              style=\"display:none;\">\n",
              "        \n",
              "  <svg xmlns=\"http://www.w3.org/2000/svg\" height=\"24px\"viewBox=\"0 0 24 24\"\n",
              "       width=\"24px\">\n",
              "    <path d=\"M0 0h24v24H0V0z\" fill=\"none\"/>\n",
              "    <path d=\"M18.56 5.44l.94 2.06.94-2.06 2.06-.94-2.06-.94-.94-2.06-.94 2.06-2.06.94zm-11 1L8.5 8.5l.94-2.06 2.06-.94-2.06-.94L8.5 2.5l-.94 2.06-2.06.94zm10 10l.94 2.06.94-2.06 2.06-.94-2.06-.94-.94-2.06-.94 2.06-2.06.94z\"/><path d=\"M17.41 7.96l-1.37-1.37c-.4-.4-.92-.59-1.43-.59-.52 0-1.04.2-1.43.59L10.3 9.45l-7.72 7.72c-.78.78-.78 2.05 0 2.83L4 21.41c.39.39.9.59 1.41.59.51 0 1.02-.2 1.41-.59l7.78-7.78 2.81-2.81c.8-.78.8-2.07 0-2.86zM5.41 20L4 18.59l7.72-7.72 1.47 1.35L5.41 20z\"/>\n",
              "  </svg>\n",
              "      </button>\n",
              "      \n",
              "  <style>\n",
              "    .colab-df-container {\n",
              "      display:flex;\n",
              "      flex-wrap:wrap;\n",
              "      gap: 12px;\n",
              "    }\n",
              "\n",
              "    .colab-df-convert {\n",
              "      background-color: #E8F0FE;\n",
              "      border: none;\n",
              "      border-radius: 50%;\n",
              "      cursor: pointer;\n",
              "      display: none;\n",
              "      fill: #1967D2;\n",
              "      height: 32px;\n",
              "      padding: 0 0 0 0;\n",
              "      width: 32px;\n",
              "    }\n",
              "\n",
              "    .colab-df-convert:hover {\n",
              "      background-color: #E2EBFA;\n",
              "      box-shadow: 0px 1px 2px rgba(60, 64, 67, 0.3), 0px 1px 3px 1px rgba(60, 64, 67, 0.15);\n",
              "      fill: #174EA6;\n",
              "    }\n",
              "\n",
              "    [theme=dark] .colab-df-convert {\n",
              "      background-color: #3B4455;\n",
              "      fill: #D2E3FC;\n",
              "    }\n",
              "\n",
              "    [theme=dark] .colab-df-convert:hover {\n",
              "      background-color: #434B5C;\n",
              "      box-shadow: 0px 1px 3px 1px rgba(0, 0, 0, 0.15);\n",
              "      filter: drop-shadow(0px 1px 2px rgba(0, 0, 0, 0.3));\n",
              "      fill: #FFFFFF;\n",
              "    }\n",
              "  </style>\n",
              "\n",
              "      <script>\n",
              "        const buttonEl =\n",
              "          document.querySelector('#df-2af3ea36-781f-4dc1-b9d4-581c9696d09d button.colab-df-convert');\n",
              "        buttonEl.style.display =\n",
              "          google.colab.kernel.accessAllowed ? 'block' : 'none';\n",
              "\n",
              "        async function convertToInteractive(key) {\n",
              "          const element = document.querySelector('#df-2af3ea36-781f-4dc1-b9d4-581c9696d09d');\n",
              "          const dataTable =\n",
              "            await google.colab.kernel.invokeFunction('convertToInteractive',\n",
              "                                                     [key], {});\n",
              "          if (!dataTable) return;\n",
              "\n",
              "          const docLinkHtml = 'Like what you see? Visit the ' +\n",
              "            '<a target=\"_blank\" href=https://colab.research.google.com/notebooks/data_table.ipynb>data table notebook</a>'\n",
              "            + ' to learn more about interactive tables.';\n",
              "          element.innerHTML = '';\n",
              "          dataTable['output_type'] = 'display_data';\n",
              "          await google.colab.output.renderOutput(dataTable, element);\n",
              "          const docLink = document.createElement('div');\n",
              "          docLink.innerHTML = docLinkHtml;\n",
              "          element.appendChild(docLink);\n",
              "        }\n",
              "      </script>\n",
              "    </div>\n",
              "  </div>\n",
              "  "
            ]
          },
          "metadata": {},
          "execution_count": 35
        }
      ]
    },
    {
      "cell_type": "markdown",
      "source": [
        "Now we are creating **Neural Network**\n",
        "\n"
      ],
      "metadata": {
        "id": "Be3b3aHQ_GBU"
      }
    },
    {
      "cell_type": "code",
      "source": [
        "import tensorflow as tf\n",
        "from tensorflow import keras\n",
        "\n",
        "\n",
        "model = keras.Sequential([\n",
        "    keras.layers.Dense(26, input_shape=(26,), activation='relu'), # 1st Hidden Layer  no_of_inputs = no_of_colums = 26\n",
        "    keras.layers.Dense(15, activation='relu'),                    # 2nd Hidden Layer\n",
        "    keras.layers.Dense(1, activation='sigmoid')                   # OutPut Layer\n",
        "])\n",
        "\n",
        "\n",
        "\n",
        "model.compile(optimizer='adam',\n",
        "              loss='binary_crossentropy',\n",
        "              metrics=['accuracy'])\n",
        "\n",
        "model.fit(X_train, y_train, epochs=100)"
      ],
      "metadata": {
        "colab": {
          "base_uri": "https://localhost:8080/",
          "height": 0
        },
        "id": "7dkRzV3__RDr",
        "outputId": "cd697f91-5bc5-4919-be1e-200448f448f3"
      },
      "execution_count": 36,
      "outputs": [
        {
          "output_type": "stream",
          "name": "stdout",
          "text": [
            "Epoch 1/100\n",
            "176/176 [==============================] - 1s 1ms/step - loss: 0.5209 - accuracy: 0.7328\n",
            "Epoch 2/100\n",
            "176/176 [==============================] - 0s 1ms/step - loss: 0.4284 - accuracy: 0.7908\n",
            "Epoch 3/100\n",
            "176/176 [==============================] - 0s 1ms/step - loss: 0.4198 - accuracy: 0.7989\n",
            "Epoch 4/100\n",
            "176/176 [==============================] - 0s 1ms/step - loss: 0.4145 - accuracy: 0.8012\n",
            "Epoch 5/100\n",
            "176/176 [==============================] - 0s 1ms/step - loss: 0.4125 - accuracy: 0.8041\n",
            "Epoch 6/100\n",
            "176/176 [==============================] - 0s 1ms/step - loss: 0.4097 - accuracy: 0.8071\n",
            "Epoch 7/100\n",
            "176/176 [==============================] - 0s 1ms/step - loss: 0.4082 - accuracy: 0.8068\n",
            "Epoch 8/100\n",
            "176/176 [==============================] - 0s 1ms/step - loss: 0.4066 - accuracy: 0.8089\n",
            "Epoch 9/100\n",
            "176/176 [==============================] - 0s 1ms/step - loss: 0.4053 - accuracy: 0.8105\n",
            "Epoch 10/100\n",
            "176/176 [==============================] - 0s 1ms/step - loss: 0.4039 - accuracy: 0.8092\n",
            "Epoch 11/100\n",
            "176/176 [==============================] - 0s 1ms/step - loss: 0.4029 - accuracy: 0.8092\n",
            "Epoch 12/100\n",
            "176/176 [==============================] - 0s 1ms/step - loss: 0.4024 - accuracy: 0.8108\n",
            "Epoch 13/100\n",
            "176/176 [==============================] - 0s 1ms/step - loss: 0.4003 - accuracy: 0.8116\n",
            "Epoch 14/100\n",
            "176/176 [==============================] - 0s 1ms/step - loss: 0.4000 - accuracy: 0.8144\n",
            "Epoch 15/100\n",
            "176/176 [==============================] - 0s 1ms/step - loss: 0.3983 - accuracy: 0.8139\n",
            "Epoch 16/100\n",
            "176/176 [==============================] - 0s 1ms/step - loss: 0.3967 - accuracy: 0.8133\n",
            "Epoch 17/100\n",
            "176/176 [==============================] - 0s 1ms/step - loss: 0.3961 - accuracy: 0.8140\n",
            "Epoch 18/100\n",
            "176/176 [==============================] - 0s 1ms/step - loss: 0.3959 - accuracy: 0.8128\n",
            "Epoch 19/100\n",
            "176/176 [==============================] - 0s 1ms/step - loss: 0.3945 - accuracy: 0.8160\n",
            "Epoch 20/100\n",
            "176/176 [==============================] - 0s 1ms/step - loss: 0.3934 - accuracy: 0.8126\n",
            "Epoch 21/100\n",
            "176/176 [==============================] - 0s 1ms/step - loss: 0.3926 - accuracy: 0.8142\n",
            "Epoch 22/100\n",
            "176/176 [==============================] - 0s 1ms/step - loss: 0.3915 - accuracy: 0.8183\n",
            "Epoch 23/100\n",
            "176/176 [==============================] - 0s 1ms/step - loss: 0.3910 - accuracy: 0.8153\n",
            "Epoch 24/100\n",
            "176/176 [==============================] - 0s 1ms/step - loss: 0.3903 - accuracy: 0.8164\n",
            "Epoch 25/100\n",
            "176/176 [==============================] - 0s 1ms/step - loss: 0.3891 - accuracy: 0.8142\n",
            "Epoch 26/100\n",
            "176/176 [==============================] - 0s 1ms/step - loss: 0.3885 - accuracy: 0.8172\n",
            "Epoch 27/100\n",
            "176/176 [==============================] - 0s 1ms/step - loss: 0.3879 - accuracy: 0.8203\n",
            "Epoch 28/100\n",
            "176/176 [==============================] - 0s 1ms/step - loss: 0.3858 - accuracy: 0.8164\n",
            "Epoch 29/100\n",
            "176/176 [==============================] - 0s 1ms/step - loss: 0.3856 - accuracy: 0.8185\n",
            "Epoch 30/100\n",
            "176/176 [==============================] - 0s 1ms/step - loss: 0.3859 - accuracy: 0.8148\n",
            "Epoch 31/100\n",
            "176/176 [==============================] - 0s 1ms/step - loss: 0.3846 - accuracy: 0.8183\n",
            "Epoch 32/100\n",
            "176/176 [==============================] - 0s 2ms/step - loss: 0.3838 - accuracy: 0.8190\n",
            "Epoch 33/100\n",
            "176/176 [==============================] - 0s 2ms/step - loss: 0.3825 - accuracy: 0.8190\n",
            "Epoch 34/100\n",
            "176/176 [==============================] - 0s 2ms/step - loss: 0.3815 - accuracy: 0.8188\n",
            "Epoch 35/100\n",
            "176/176 [==============================] - 0s 2ms/step - loss: 0.3814 - accuracy: 0.8178\n",
            "Epoch 36/100\n",
            "176/176 [==============================] - 0s 2ms/step - loss: 0.3806 - accuracy: 0.8220\n",
            "Epoch 37/100\n",
            "176/176 [==============================] - 0s 2ms/step - loss: 0.3804 - accuracy: 0.8201\n",
            "Epoch 38/100\n",
            "176/176 [==============================] - 0s 1ms/step - loss: 0.3811 - accuracy: 0.8210\n",
            "Epoch 39/100\n",
            "176/176 [==============================] - 0s 1ms/step - loss: 0.3796 - accuracy: 0.8220\n",
            "Epoch 40/100\n",
            "176/176 [==============================] - 0s 1ms/step - loss: 0.3788 - accuracy: 0.8212\n",
            "Epoch 41/100\n",
            "176/176 [==============================] - 0s 1ms/step - loss: 0.3782 - accuracy: 0.8204\n",
            "Epoch 42/100\n",
            "176/176 [==============================] - 0s 1ms/step - loss: 0.3773 - accuracy: 0.8201\n",
            "Epoch 43/100\n",
            "176/176 [==============================] - 0s 1ms/step - loss: 0.3771 - accuracy: 0.8229\n",
            "Epoch 44/100\n",
            "176/176 [==============================] - 0s 1ms/step - loss: 0.3771 - accuracy: 0.8252\n",
            "Epoch 45/100\n",
            "176/176 [==============================] - 0s 1ms/step - loss: 0.3761 - accuracy: 0.8249\n",
            "Epoch 46/100\n",
            "176/176 [==============================] - 0s 1ms/step - loss: 0.3742 - accuracy: 0.8245\n",
            "Epoch 47/100\n",
            "176/176 [==============================] - 0s 1ms/step - loss: 0.3754 - accuracy: 0.8247\n",
            "Epoch 48/100\n",
            "176/176 [==============================] - 0s 1ms/step - loss: 0.3735 - accuracy: 0.8242\n",
            "Epoch 49/100\n",
            "176/176 [==============================] - 0s 1ms/step - loss: 0.3740 - accuracy: 0.8229\n",
            "Epoch 50/100\n",
            "176/176 [==============================] - 0s 1ms/step - loss: 0.3719 - accuracy: 0.8247\n",
            "Epoch 51/100\n",
            "176/176 [==============================] - 0s 1ms/step - loss: 0.3719 - accuracy: 0.8274\n",
            "Epoch 52/100\n",
            "176/176 [==============================] - 0s 1ms/step - loss: 0.3715 - accuracy: 0.8238\n",
            "Epoch 53/100\n",
            "176/176 [==============================] - 0s 1ms/step - loss: 0.3705 - accuracy: 0.8256\n",
            "Epoch 54/100\n",
            "176/176 [==============================] - 0s 1ms/step - loss: 0.3697 - accuracy: 0.8270\n",
            "Epoch 55/100\n",
            "176/176 [==============================] - 0s 1ms/step - loss: 0.3701 - accuracy: 0.8290\n",
            "Epoch 56/100\n",
            "176/176 [==============================] - 0s 1ms/step - loss: 0.3689 - accuracy: 0.8254\n",
            "Epoch 57/100\n",
            "176/176 [==============================] - 0s 1ms/step - loss: 0.3697 - accuracy: 0.8265\n",
            "Epoch 58/100\n",
            "176/176 [==============================] - 0s 1ms/step - loss: 0.3676 - accuracy: 0.8290\n",
            "Epoch 59/100\n",
            "176/176 [==============================] - 0s 1ms/step - loss: 0.3658 - accuracy: 0.8286\n",
            "Epoch 60/100\n",
            "176/176 [==============================] - 0s 1ms/step - loss: 0.3681 - accuracy: 0.8279\n",
            "Epoch 61/100\n",
            "176/176 [==============================] - 0s 1ms/step - loss: 0.3657 - accuracy: 0.8245\n",
            "Epoch 62/100\n",
            "176/176 [==============================] - 0s 1ms/step - loss: 0.3643 - accuracy: 0.8268\n",
            "Epoch 63/100\n",
            "176/176 [==============================] - 0s 1ms/step - loss: 0.3658 - accuracy: 0.8244\n",
            "Epoch 64/100\n",
            "176/176 [==============================] - 0s 1ms/step - loss: 0.3649 - accuracy: 0.8279\n",
            "Epoch 65/100\n",
            "176/176 [==============================] - 0s 1ms/step - loss: 0.3635 - accuracy: 0.8316\n",
            "Epoch 66/100\n",
            "176/176 [==============================] - 0s 1ms/step - loss: 0.3634 - accuracy: 0.8308\n",
            "Epoch 67/100\n",
            "176/176 [==============================] - 0s 1ms/step - loss: 0.3625 - accuracy: 0.8300\n",
            "Epoch 68/100\n",
            "176/176 [==============================] - 0s 1ms/step - loss: 0.3618 - accuracy: 0.8311\n",
            "Epoch 69/100\n",
            "176/176 [==============================] - 0s 1ms/step - loss: 0.3610 - accuracy: 0.8320\n",
            "Epoch 70/100\n",
            "176/176 [==============================] - 0s 1ms/step - loss: 0.3611 - accuracy: 0.8293\n",
            "Epoch 71/100\n",
            "176/176 [==============================] - 0s 1ms/step - loss: 0.3603 - accuracy: 0.8297\n",
            "Epoch 72/100\n",
            "176/176 [==============================] - 0s 1ms/step - loss: 0.3600 - accuracy: 0.8292\n",
            "Epoch 73/100\n",
            "176/176 [==============================] - 0s 1ms/step - loss: 0.3601 - accuracy: 0.8306\n",
            "Epoch 74/100\n",
            "176/176 [==============================] - 0s 1ms/step - loss: 0.3594 - accuracy: 0.8348\n",
            "Epoch 75/100\n",
            "176/176 [==============================] - 0s 1ms/step - loss: 0.3583 - accuracy: 0.8309\n",
            "Epoch 76/100\n",
            "176/176 [==============================] - 0s 1ms/step - loss: 0.3575 - accuracy: 0.8329\n",
            "Epoch 77/100\n",
            "176/176 [==============================] - 0s 1ms/step - loss: 0.3571 - accuracy: 0.8316\n",
            "Epoch 78/100\n",
            "176/176 [==============================] - 0s 1ms/step - loss: 0.3582 - accuracy: 0.8329\n",
            "Epoch 79/100\n",
            "176/176 [==============================] - 0s 1ms/step - loss: 0.3569 - accuracy: 0.8297\n",
            "Epoch 80/100\n",
            "176/176 [==============================] - 0s 2ms/step - loss: 0.3568 - accuracy: 0.8345\n",
            "Epoch 81/100\n",
            "176/176 [==============================] - 0s 2ms/step - loss: 0.3562 - accuracy: 0.8300\n",
            "Epoch 82/100\n",
            "176/176 [==============================] - 0s 2ms/step - loss: 0.3547 - accuracy: 0.8359\n",
            "Epoch 83/100\n",
            "176/176 [==============================] - 0s 2ms/step - loss: 0.3553 - accuracy: 0.8347\n",
            "Epoch 84/100\n",
            "176/176 [==============================] - 0s 2ms/step - loss: 0.3553 - accuracy: 0.8308\n",
            "Epoch 85/100\n",
            "176/176 [==============================] - 0s 2ms/step - loss: 0.3546 - accuracy: 0.8338\n",
            "Epoch 86/100\n",
            "176/176 [==============================] - 0s 2ms/step - loss: 0.3531 - accuracy: 0.8322\n",
            "Epoch 87/100\n",
            "176/176 [==============================] - 0s 1ms/step - loss: 0.3531 - accuracy: 0.8320\n",
            "Epoch 88/100\n",
            "176/176 [==============================] - 0s 1ms/step - loss: 0.3534 - accuracy: 0.8354\n",
            "Epoch 89/100\n",
            "176/176 [==============================] - 0s 1ms/step - loss: 0.3526 - accuracy: 0.8340\n",
            "Epoch 90/100\n",
            "176/176 [==============================] - 0s 1ms/step - loss: 0.3524 - accuracy: 0.8356\n",
            "Epoch 91/100\n",
            "176/176 [==============================] - 0s 1ms/step - loss: 0.3519 - accuracy: 0.8340\n",
            "Epoch 92/100\n",
            "176/176 [==============================] - 0s 1ms/step - loss: 0.3498 - accuracy: 0.8366\n",
            "Epoch 93/100\n",
            "176/176 [==============================] - 0s 1ms/step - loss: 0.3515 - accuracy: 0.8332\n",
            "Epoch 94/100\n",
            "176/176 [==============================] - 0s 1ms/step - loss: 0.3488 - accuracy: 0.8320\n",
            "Epoch 95/100\n",
            "176/176 [==============================] - 0s 1ms/step - loss: 0.3499 - accuracy: 0.8318\n",
            "Epoch 96/100\n",
            "176/176 [==============================] - 0s 1ms/step - loss: 0.3498 - accuracy: 0.8361\n",
            "Epoch 97/100\n",
            "176/176 [==============================] - 0s 1ms/step - loss: 0.3479 - accuracy: 0.8352\n",
            "Epoch 98/100\n",
            "176/176 [==============================] - 0s 1ms/step - loss: 0.3479 - accuracy: 0.8384\n",
            "Epoch 99/100\n",
            "176/176 [==============================] - 0s 1ms/step - loss: 0.3471 - accuracy: 0.8332\n",
            "Epoch 100/100\n",
            "176/176 [==============================] - 0s 1ms/step - loss: 0.3471 - accuracy: 0.8368\n"
          ]
        },
        {
          "output_type": "execute_result",
          "data": {
            "text/plain": [
              "<keras.callbacks.History at 0x7fb0c3def0d0>"
            ]
          },
          "metadata": {},
          "execution_count": 36
        }
      ]
    },
    {
      "cell_type": "code",
      "source": [
        "# Evaluating The Model\n",
        "model.evaluate(X_test, y_test)"
      ],
      "metadata": {
        "colab": {
          "base_uri": "https://localhost:8080/",
          "height": 0
        },
        "id": "c1G1Uqy_AnX5",
        "outputId": "263d8108-64b0-4fb0-fbba-e4e9ef148c2e"
      },
      "execution_count": 37,
      "outputs": [
        {
          "output_type": "stream",
          "name": "stdout",
          "text": [
            "44/44 [==============================] - 0s 995us/step - loss: 0.5008 - accuracy: 0.7662\n"
          ]
        },
        {
          "output_type": "execute_result",
          "data": {
            "text/plain": [
              "[0.5007922649383545, 0.7661691308021545]"
            ]
          },
          "metadata": {},
          "execution_count": 37
        }
      ]
    },
    {
      "cell_type": "code",
      "source": [
        "# Evaluating on X_test\n",
        "yp = model.predict(X_test)\n",
        "yp[:5]"
      ],
      "metadata": {
        "colab": {
          "base_uri": "https://localhost:8080/",
          "height": 0
        },
        "id": "mWWtLgczAt43",
        "outputId": "1f182e48-f2c7-4dc3-e26d-10e5bdcb4b65"
      },
      "execution_count": 38,
      "outputs": [
        {
          "output_type": "stream",
          "name": "stdout",
          "text": [
            "44/44 [==============================] - 0s 943us/step\n"
          ]
        },
        {
          "output_type": "execute_result",
          "data": {
            "text/plain": [
              "array([[0.46946907],\n",
              "       [0.4854977 ],\n",
              "       [0.01358663],\n",
              "       [0.8116716 ],\n",
              "       [0.27377388]], dtype=float32)"
            ]
          },
          "metadata": {},
          "execution_count": 38
        }
      ]
    },
    {
      "cell_type": "code",
      "source": [
        "# Now we will convert yp to first an 1d array and it's value between 0 and 1\n",
        "y_pred = []\n",
        "for element in yp:\n",
        "    if element > 0.5:\n",
        "        y_pred.append(1)\n",
        "    else:\n",
        "        y_pred.append(0)"
      ],
      "metadata": {
        "id": "3pKdqh-iBOQ6"
      },
      "execution_count": 41,
      "outputs": []
    },
    {
      "cell_type": "markdown",
      "source": [
        "Converted Y_Pred Values"
      ],
      "metadata": {
        "id": "uOk1b2ocBlMe"
      }
    },
    {
      "cell_type": "code",
      "source": [
        "y_pred[:10]"
      ],
      "metadata": {
        "colab": {
          "base_uri": "https://localhost:8080/",
          "height": 0
        },
        "id": "CvduBFy7BoZL",
        "outputId": "134a3b57-0be6-4eb9-c9b7-97cb0a21d361"
      },
      "execution_count": 42,
      "outputs": [
        {
          "output_type": "execute_result",
          "data": {
            "text/plain": [
              "[0, 0, 0, 1, 0, 1, 0, 0, 0, 0]"
            ]
          },
          "metadata": {},
          "execution_count": 42
        }
      ]
    },
    {
      "cell_type": "code",
      "source": [
        "# Printing the classification report for the OVERALL MODEL\n",
        "from sklearn.metrics import confusion_matrix , classification_report\n",
        "\n",
        "print(classification_report(y_test,y_pred))"
      ],
      "metadata": {
        "colab": {
          "base_uri": "https://localhost:8080/",
          "height": 0
        },
        "id": "TtFUdU4mB05S",
        "outputId": "01574469-25bc-4420-f187-d1a3099b9499"
      },
      "execution_count": 43,
      "outputs": [
        {
          "output_type": "stream",
          "name": "stdout",
          "text": [
            "              precision    recall  f1-score   support\n",
            "\n",
            "           0       0.82      0.86      0.84       999\n",
            "           1       0.61      0.53      0.57       408\n",
            "\n",
            "    accuracy                           0.77      1407\n",
            "   macro avg       0.71      0.70      0.70      1407\n",
            "weighted avg       0.76      0.77      0.76      1407\n",
            "\n"
          ]
        }
      ]
    },
    {
      "cell_type": "markdown",
      "source": [
        "Prinfting Confusion Matrix"
      ],
      "metadata": {
        "id": "DMT5KyioCBSm"
      }
    },
    {
      "cell_type": "code",
      "source": [
        "import seaborn as sn\n",
        "cm = tf.math.confusion_matrix(labels=y_test,predictions=y_pred)\n",
        "\n",
        "plt.figure(figsize = (10,7))\n",
        "sn.heatmap(cm, annot=True, fmt='d')\n",
        "plt.xlabel('Predicted')\n",
        "plt.ylabel('Truth')"
      ],
      "metadata": {
        "colab": {
          "base_uri": "https://localhost:8080/",
          "height": 637
        },
        "id": "b0QI34JACDvL",
        "outputId": "2f0739f3-a064-4d6c-8c70-df695441f900"
      },
      "execution_count": 44,
      "outputs": [
        {
          "output_type": "execute_result",
          "data": {
            "text/plain": [
              "Text(95.72222222222221, 0.5, 'Truth')"
            ]
          },
          "metadata": {},
          "execution_count": 44
        },
        {
          "output_type": "display_data",
          "data": {
            "text/plain": [
              "<Figure size 1000x700 with 2 Axes>"
            ],
            "image/png": "[encoded data removed]"
          },
          "metadata": {}
        }
      ]
    },
    {
      "cell_type": "markdown",
      "source": [
        "**Accuracy**"
      ],
      "metadata": {
        "id": "Z--bIZSxCPSm"
      }
    },
    {
      "cell_type": "code",
      "source": [
        "round((863+215)/(863+215+193+136),2) # digonal sum/(total sum)"
      ],
      "metadata": {
        "colab": {
          "base_uri": "https://localhost:8080/",
          "height": 0
        },
        "id": "g-4-lf3-CRkE",
        "outputId": "291f4bad-a987-44bf-aaf8-3a8f77a391d3"
      },
      "execution_count": 47,
      "outputs": [
        {
          "output_type": "execute_result",
          "data": {
            "text/plain": [
              "0.77"
            ]
          },
          "metadata": {},
          "execution_count": 47
        }
      ]
    },
    {
      "cell_type": "markdown",
      "source": [
        "**Precision for 0 class. i.e. Precision for customers who did not churn**"
      ],
      "metadata": {
        "id": "ZELC-RDZCUh0"
      }
    },
    {
      "cell_type": "code",
      "source": [
        "round(863/(863+193),2) # TP/(TP+FP)"
      ],
      "metadata": {
        "colab": {
          "base_uri": "https://localhost:8080/",
          "height": 0
        },
        "id": "Fj1M-G1KCYEe",
        "outputId": "fa577cc4-60f7-4223-f7e0-18d42c34e03f"
      },
      "execution_count": 48,
      "outputs": [
        {
          "output_type": "execute_result",
          "data": {
            "text/plain": [
              "0.82"
            ]
          },
          "metadata": {},
          "execution_count": 48
        }
      ]
    },
    {
      "cell_type": "markdown",
      "source": [
        "**Precision for 1 class. i.e. Precision for customers who actually churned**"
      ],
      "metadata": {
        "id": "-zPIB2y-DLni"
      }
    },
    {
      "cell_type": "code",
      "source": [
        "round(215/(215+136),2)"
      ],
      "metadata": {
        "colab": {
          "base_uri": "https://localhost:8080/",
          "height": 0
        },
        "id": "AnpicR77DVgX",
        "outputId": "4c7be5e3-f433-4326-de02-74c7c42e3303"
      },
      "execution_count": 49,
      "outputs": [
        {
          "output_type": "execute_result",
          "data": {
            "text/plain": [
              "0.61"
            ]
          },
          "metadata": {},
          "execution_count": 49
        }
      ]
    },
    {
      "cell_type": "markdown",
      "source": [
        "**Recall for 0 class**"
      ],
      "metadata": {
        "id": "BG-W-htrDkaJ"
      }
    },
    {
      "cell_type": "code",
      "source": [
        "round(863/(863+136),2) # TP/(TP+FN)"
      ],
      "metadata": {
        "colab": {
          "base_uri": "https://localhost:8080/",
          "height": 0
        },
        "id": "wsoD3tLDDlmk",
        "outputId": "0546b247-725e-4c2a-b792-56a6058c74a7"
      },
      "execution_count": 50,
      "outputs": [
        {
          "output_type": "execute_result",
          "data": {
            "text/plain": [
              "0.86"
            ]
          },
          "metadata": {},
          "execution_count": 50
        }
      ]
    },
    {
      "cell_type": "markdown",
      "source": [
        "**Recall for 1 class**"
      ],
      "metadata": {
        "id": "KKk9_lOuD1B0"
      }
    },
    {
      "cell_type": "code",
      "source": [
        "round(215/(215+193),2)"
      ],
      "metadata": {
        "colab": {
          "base_uri": "https://localhost:8080/",
          "height": 0
        },
        "id": "hb1UV81WD4Cd",
        "outputId": "1ce7ae8a-8b7e-43e4-b616-00255a26d490"
      },
      "execution_count": 51,
      "outputs": [
        {
          "output_type": "execute_result",
          "data": {
            "text/plain": [
              "0.53"
            ]
          },
          "metadata": {},
          "execution_count": 51
        }
      ]
    }
  ]
}